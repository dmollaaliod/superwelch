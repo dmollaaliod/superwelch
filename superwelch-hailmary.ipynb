{
 "cells": [
  {
   "cell_type": "markdown",
   "id": "d15e0eff",
   "metadata": {},
   "source": [
    "# Can we beat Welch's t-test?\n",
    "\n",
    "The current version of this script is super-stupid. But to do any interesting research, you have to plant\n",
    "a few small acorns, and this is the smallest of acorns.\n",
    "\n",
    "Suppose you have to evaluate NUMBER_OF_EXPERIMENTS experiments very small experiment. By a weird\n",
    "coincidence, they all have the same number of participants. There are CONTROL_GROUP_SIZE patients\n",
    "getting a placebo, and EXPERIMENT_GROUP_SIZE getting a drug.\n",
    "\n",
    "Unfortunately approximately PROPORTION_OF_EXPERIMENTS_THAT_DO_NOTHING of those drugs actually have no effect either.\n",
    "\n",
    "You want to create a classifier to determine whether or not the experimental drug worked.\n",
    "\n",
    "Also, amazingly, the control group and the experimental group metrics are normally distributed. Obviously, the\n",
    "experiments where the drug is useless have the same mean and standard deviation. In the experiments where\n",
    "the drug is useful, they differ. The means of these datasets are uniformly distributed between 0-10. The standard deviations are uniformly distributed by 1-4.\n",
    "\n",
    "Being a well-trained statistician with years of experience, you use Welch's t-test.\n",
    "\n",
    "Your offsider is a clueless data scientist whose sole training consisted of reading the sklearn documentation.\n",
    "\n",
    "You have a future self who will implement a beautifully trained transformer or fully-connected neural network. (I haven't done that in this code yet. One day soon.)\n",
    "\n",
    "Who wins?"
   ]
  },
  {
   "cell_type": "code",
   "execution_count": 1,
   "id": "30b87e95",
   "metadata": {},
   "outputs": [],
   "source": [
    "CONTROL_GROUP_SIZE=5\n",
    "EXPERIMENT_GROUP_SIZE=6\n",
    "PROPORTION_OF_EXPERIMENTS_THAT_DO_NOTHING=0.66\n",
    "NUMBER_OF_EXPERIMENTS=10000"
   ]
  },
  {
   "cell_type": "code",
   "execution_count": 2,
   "id": "bb71ddcd",
   "metadata": {},
   "outputs": [],
   "source": [
    "import scipy\n",
    "import scipy.stats\n",
    "import collections\n",
    "import pandas\n",
    "import sklearn.model_selection\n",
    "import sklearn.svm\n",
    "import sklearn.dummy\n",
    "import sklearn.metrics\n",
    "import sklearn.tree\n",
    "import sklearn.ensemble"
   ]
  },
  {
   "cell_type": "code",
   "execution_count": 3,
   "id": "1bb62809",
   "metadata": {},
   "outputs": [],
   "source": [
    "Experiment = collections.namedtuple(\"Experiment\",\n",
    "                                    [\"ControlLoc\", \"ControlScale\", \"ControlValues\",\n",
    "                                   \"ExperimentLoc\", \"ExperimentScale\", \"ExperimentValues\", \n",
    "                                   \"ShouldShowResult\"])"
   ]
  },
  {
   "cell_type": "code",
   "execution_count": 4,
   "id": "8f18e6ee",
   "metadata": {},
   "outputs": [],
   "source": [
    "def generate_experiment():\n",
    "    null_experiment = scipy.stats.uniform.rvs() <= PROPORTION_OF_EXPERIMENTS_THAT_DO_NOTHING\n",
    "    control_loc = scipy.stats.uniform.rvs(loc=0, scale=10)\n",
    "    control_scale = scipy.stats.uniform.rvs(loc=1, scale=4)\n",
    "    if null_experiment:\n",
    "        experiment_loc = control_loc\n",
    "        experiment_scale = control_scale\n",
    "    else:\n",
    "        experiment_loc = scipy.stats.uniform.rvs(loc=0, scale=10)\n",
    "        experiment_scale = scipy.stats.uniform.rvs(loc=1, scale=4)\n",
    "    control_values = scipy.stats.norm.rvs(loc=control_loc, scale=control_scale, size=CONTROL_GROUP_SIZE)\n",
    "    experiment_values = scipy.stats.norm.rvs(loc=experiment_loc, scale=experiment_scale, size=EXPERIMENT_GROUP_SIZE)\n",
    "    return Experiment(ControlLoc=control_loc, \n",
    "                      ControlScale=control_scale,\n",
    "                     ControlValues=control_values,\n",
    "                     ExperimentLoc=experiment_loc,\n",
    "                     ExperimentScale=experiment_scale,\n",
    "                     ExperimentValues=experiment_values,\n",
    "                     ShouldShowResult=not(null_experiment))\n",
    "\n",
    "def generate_experiments(number_of_experiments):\n",
    "    return [generate_experiment() for n in range(number_of_experiments)]"
   ]
  },
  {
   "cell_type": "code",
   "execution_count": 5,
   "id": "81bb07bb",
   "metadata": {},
   "outputs": [],
   "source": [
    "def create_feature_dataframe(experiments):\n",
    "    records = []\n",
    "    for experiment in experiments:\n",
    "        record = {}\n",
    "        for i in range(CONTROL_GROUP_SIZE):\n",
    "            record[f\"c{i}\"] = experiment.ControlValues[i]\n",
    "        for i in range(EXPERIMENT_GROUP_SIZE):\n",
    "            record[f\"x{i}\"] = experiment.ExperimentValues[i]\n",
    "        records.append(record)\n",
    "    return pandas.DataFrame.from_records(records)\n",
    "\n",
    "def create_target_series(experiments):\n",
    "    return pandas.Series([x.ShouldShowResult for x in experiments])"
   ]
  },
  {
   "cell_type": "code",
   "execution_count": 6,
   "id": "5f7f36d5",
   "metadata": {},
   "outputs": [
    {
     "data": {
      "text/html": [
       "<div>\n",
       "<style scoped>\n",
       "    .dataframe tbody tr th:only-of-type {\n",
       "        vertical-align: middle;\n",
       "    }\n",
       "\n",
       "    .dataframe tbody tr th {\n",
       "        vertical-align: top;\n",
       "    }\n",
       "\n",
       "    .dataframe thead th {\n",
       "        text-align: right;\n",
       "    }\n",
       "</style>\n",
       "<table border=\"1\" class=\"dataframe\">\n",
       "  <thead>\n",
       "    <tr style=\"text-align: right;\">\n",
       "      <th></th>\n",
       "      <th>c0</th>\n",
       "      <th>c1</th>\n",
       "      <th>c2</th>\n",
       "      <th>c3</th>\n",
       "      <th>c4</th>\n",
       "      <th>x0</th>\n",
       "      <th>x1</th>\n",
       "      <th>x2</th>\n",
       "      <th>x3</th>\n",
       "      <th>x4</th>\n",
       "      <th>x5</th>\n",
       "    </tr>\n",
       "  </thead>\n",
       "  <tbody>\n",
       "    <tr>\n",
       "      <th>0</th>\n",
       "      <td>7.264473</td>\n",
       "      <td>-7.517165</td>\n",
       "      <td>11.771611</td>\n",
       "      <td>2.003438</td>\n",
       "      <td>-2.242615</td>\n",
       "      <td>6.937202</td>\n",
       "      <td>-0.366844</td>\n",
       "      <td>4.979517</td>\n",
       "      <td>5.467550</td>\n",
       "      <td>5.636427</td>\n",
       "      <td>-1.942541</td>\n",
       "    </tr>\n",
       "    <tr>\n",
       "      <th>1</th>\n",
       "      <td>7.157728</td>\n",
       "      <td>7.065377</td>\n",
       "      <td>7.153586</td>\n",
       "      <td>13.750535</td>\n",
       "      <td>5.320640</td>\n",
       "      <td>6.068166</td>\n",
       "      <td>7.299186</td>\n",
       "      <td>6.605873</td>\n",
       "      <td>9.193089</td>\n",
       "      <td>8.130642</td>\n",
       "      <td>7.989027</td>\n",
       "    </tr>\n",
       "    <tr>\n",
       "      <th>2</th>\n",
       "      <td>5.079459</td>\n",
       "      <td>6.833027</td>\n",
       "      <td>9.024674</td>\n",
       "      <td>6.761806</td>\n",
       "      <td>7.683872</td>\n",
       "      <td>3.239225</td>\n",
       "      <td>11.016344</td>\n",
       "      <td>6.166856</td>\n",
       "      <td>10.054226</td>\n",
       "      <td>14.344219</td>\n",
       "      <td>9.276773</td>\n",
       "    </tr>\n",
       "    <tr>\n",
       "      <th>3</th>\n",
       "      <td>4.655775</td>\n",
       "      <td>3.961034</td>\n",
       "      <td>-1.257782</td>\n",
       "      <td>-1.554726</td>\n",
       "      <td>3.558832</td>\n",
       "      <td>2.988543</td>\n",
       "      <td>-0.199298</td>\n",
       "      <td>-0.559302</td>\n",
       "      <td>0.512324</td>\n",
       "      <td>1.559637</td>\n",
       "      <td>1.981465</td>\n",
       "    </tr>\n",
       "    <tr>\n",
       "      <th>4</th>\n",
       "      <td>8.259506</td>\n",
       "      <td>9.068813</td>\n",
       "      <td>4.618367</td>\n",
       "      <td>7.748268</td>\n",
       "      <td>8.050739</td>\n",
       "      <td>8.516755</td>\n",
       "      <td>9.256255</td>\n",
       "      <td>3.781489</td>\n",
       "      <td>9.742290</td>\n",
       "      <td>8.329355</td>\n",
       "      <td>9.351403</td>\n",
       "    </tr>\n",
       "    <tr>\n",
       "      <th>...</th>\n",
       "      <td>...</td>\n",
       "      <td>...</td>\n",
       "      <td>...</td>\n",
       "      <td>...</td>\n",
       "      <td>...</td>\n",
       "      <td>...</td>\n",
       "      <td>...</td>\n",
       "      <td>...</td>\n",
       "      <td>...</td>\n",
       "      <td>...</td>\n",
       "      <td>...</td>\n",
       "    </tr>\n",
       "    <tr>\n",
       "      <th>9995</th>\n",
       "      <td>6.545834</td>\n",
       "      <td>8.056994</td>\n",
       "      <td>8.330863</td>\n",
       "      <td>7.300312</td>\n",
       "      <td>5.624735</td>\n",
       "      <td>7.742733</td>\n",
       "      <td>7.121092</td>\n",
       "      <td>7.251279</td>\n",
       "      <td>6.411926</td>\n",
       "      <td>6.741853</td>\n",
       "      <td>8.015904</td>\n",
       "    </tr>\n",
       "    <tr>\n",
       "      <th>9996</th>\n",
       "      <td>6.873099</td>\n",
       "      <td>2.160694</td>\n",
       "      <td>7.900879</td>\n",
       "      <td>5.117466</td>\n",
       "      <td>5.188634</td>\n",
       "      <td>9.712482</td>\n",
       "      <td>5.451041</td>\n",
       "      <td>7.427483</td>\n",
       "      <td>6.835240</td>\n",
       "      <td>6.573424</td>\n",
       "      <td>5.376153</td>\n",
       "    </tr>\n",
       "    <tr>\n",
       "      <th>9997</th>\n",
       "      <td>3.279704</td>\n",
       "      <td>3.586458</td>\n",
       "      <td>3.840117</td>\n",
       "      <td>3.032068</td>\n",
       "      <td>3.321618</td>\n",
       "      <td>5.283170</td>\n",
       "      <td>2.349917</td>\n",
       "      <td>5.647390</td>\n",
       "      <td>4.120839</td>\n",
       "      <td>1.540318</td>\n",
       "      <td>4.360842</td>\n",
       "    </tr>\n",
       "    <tr>\n",
       "      <th>9998</th>\n",
       "      <td>8.377527</td>\n",
       "      <td>11.193248</td>\n",
       "      <td>9.500909</td>\n",
       "      <td>3.416513</td>\n",
       "      <td>12.391999</td>\n",
       "      <td>1.263482</td>\n",
       "      <td>10.333170</td>\n",
       "      <td>7.608452</td>\n",
       "      <td>3.804797</td>\n",
       "      <td>10.732944</td>\n",
       "      <td>13.582453</td>\n",
       "    </tr>\n",
       "    <tr>\n",
       "      <th>9999</th>\n",
       "      <td>7.048648</td>\n",
       "      <td>9.368116</td>\n",
       "      <td>8.661886</td>\n",
       "      <td>7.667693</td>\n",
       "      <td>10.984327</td>\n",
       "      <td>7.193335</td>\n",
       "      <td>9.643656</td>\n",
       "      <td>10.343687</td>\n",
       "      <td>6.951697</td>\n",
       "      <td>9.371760</td>\n",
       "      <td>8.930360</td>\n",
       "    </tr>\n",
       "  </tbody>\n",
       "</table>\n",
       "<p>10000 rows × 11 columns</p>\n",
       "</div>"
      ],
      "text/plain": [
       "            c0         c1         c2         c3         c4        x0  \\\n",
       "0     7.264473  -7.517165  11.771611   2.003438  -2.242615  6.937202   \n",
       "1     7.157728   7.065377   7.153586  13.750535   5.320640  6.068166   \n",
       "2     5.079459   6.833027   9.024674   6.761806   7.683872  3.239225   \n",
       "3     4.655775   3.961034  -1.257782  -1.554726   3.558832  2.988543   \n",
       "4     8.259506   9.068813   4.618367   7.748268   8.050739  8.516755   \n",
       "...        ...        ...        ...        ...        ...       ...   \n",
       "9995  6.545834   8.056994   8.330863   7.300312   5.624735  7.742733   \n",
       "9996  6.873099   2.160694   7.900879   5.117466   5.188634  9.712482   \n",
       "9997  3.279704   3.586458   3.840117   3.032068   3.321618  5.283170   \n",
       "9998  8.377527  11.193248   9.500909   3.416513  12.391999  1.263482   \n",
       "9999  7.048648   9.368116   8.661886   7.667693  10.984327  7.193335   \n",
       "\n",
       "             x1         x2         x3         x4         x5  \n",
       "0     -0.366844   4.979517   5.467550   5.636427  -1.942541  \n",
       "1      7.299186   6.605873   9.193089   8.130642   7.989027  \n",
       "2     11.016344   6.166856  10.054226  14.344219   9.276773  \n",
       "3     -0.199298  -0.559302   0.512324   1.559637   1.981465  \n",
       "4      9.256255   3.781489   9.742290   8.329355   9.351403  \n",
       "...         ...        ...        ...        ...        ...  \n",
       "9995   7.121092   7.251279   6.411926   6.741853   8.015904  \n",
       "9996   5.451041   7.427483   6.835240   6.573424   5.376153  \n",
       "9997   2.349917   5.647390   4.120839   1.540318   4.360842  \n",
       "9998  10.333170   7.608452   3.804797  10.732944  13.582453  \n",
       "9999   9.643656  10.343687   6.951697   9.371760   8.930360  \n",
       "\n",
       "[10000 rows x 11 columns]"
      ]
     },
     "execution_count": 6,
     "metadata": {},
     "output_type": "execute_result"
    }
   ],
   "source": [
    "experiments = generate_experiments(NUMBER_OF_EXPERIMENTS)\n",
    "create_feature_dataframe(experiments)"
   ]
  },
  {
   "cell_type": "code",
   "execution_count": 7,
   "id": "8ccdc50e",
   "metadata": {},
   "outputs": [
    {
     "data": {
      "text/plain": [
       "0.3351"
      ]
     },
     "execution_count": 7,
     "metadata": {},
     "output_type": "execute_result"
    }
   ],
   "source": [
    "create_target_series(experiments).mean()"
   ]
  },
  {
   "cell_type": "code",
   "execution_count": 8,
   "id": "085d535c",
   "metadata": {},
   "outputs": [],
   "source": [
    "class WelchTTest:\n",
    "    def __init__(self):\n",
    "        pass\n",
    "    def fit(self, X,y, weights=[]):\n",
    "        pass\n",
    "    def predict(self, Xs):\n",
    "        answer = []\n",
    "        for experiment in Xs:\n",
    "            outcome = scipy.stats.ttest_ind(experiment.ControlValues, experiment.ExperimentValues, equal_var=False)\n",
    "            if outcome.pvalue < 0.05:\n",
    "                answer.append(True)\n",
    "            else:\n",
    "                answer.append(False)\n",
    "        return answer"
   ]
  },
  {
   "cell_type": "code",
   "execution_count": 9,
   "id": "9699ba40",
   "metadata": {},
   "outputs": [
    {
     "name": "stdout",
     "output_type": "stream",
     "text": [
      "[[6334  315]\n",
      " [2105 1246]]\n"
     ]
    }
   ],
   "source": [
    "welch = WelchTTest()\n",
    "welch_answers = welch.predict(experiments)\n",
    "print(sklearn.metrics.confusion_matrix(create_target_series(experiments), welch_answers))"
   ]
  },
  {
   "cell_type": "markdown",
   "id": "d7fd624f",
   "metadata": {},
   "source": [
    "## The target to beat..."
   ]
  },
  {
   "cell_type": "code",
   "execution_count": 10,
   "id": "794122f4",
   "metadata": {},
   "outputs": [
    {
     "data": {
      "text/plain": [
       "0.758"
      ]
     },
     "execution_count": 10,
     "metadata": {},
     "output_type": "execute_result"
    }
   ],
   "source": [
    "sklearn.metrics.accuracy_score(create_target_series(experiments), welch_answers)"
   ]
  },
  {
   "cell_type": "markdown",
   "id": "0cdca395",
   "metadata": {},
   "source": [
    "## Various stupid ways to beat it\n",
    "\n",
    "(That are all likely to fail...)"
   ]
  },
  {
   "cell_type": "code",
   "execution_count": 11,
   "id": "7d774b6d",
   "metadata": {},
   "outputs": [
    {
     "data": {
      "text/plain": [
       "0.6649"
      ]
     },
     "execution_count": 11,
     "metadata": {},
     "output_type": "execute_result"
    }
   ],
   "source": [
    "sklearn.model_selection.cross_validate(sklearn.dummy.DummyClassifier(strategy='most_frequent'), \n",
    "                                       create_feature_dataframe(experiments),\n",
    "                                       create_target_series(experiments))['test_score'].mean()"
   ]
  },
  {
   "cell_type": "code",
   "execution_count": 12,
   "id": "8f7b333c",
   "metadata": {},
   "outputs": [
    {
     "name": "stdout",
     "output_type": "stream",
     "text": [
      "CPU times: user 9.93 s, sys: 41.2 ms, total: 9.97 s\n",
      "Wall time: 10 s\n"
     ]
    },
    {
     "data": {
      "text/plain": [
       "0.7718999999999999"
      ]
     },
     "execution_count": 12,
     "metadata": {},
     "output_type": "execute_result"
    }
   ],
   "source": [
    "%%time\n",
    "sklearn.model_selection.cross_validate(sklearn.ensemble.RandomForestClassifier(), \n",
    "                                       create_feature_dataframe(experiments),\n",
    "                                       create_target_series(experiments))['test_score'].mean()"
   ]
  },
  {
   "cell_type": "code",
   "execution_count": null,
   "id": "c3858968",
   "metadata": {},
   "outputs": [],
   "source": [
    "%%time\n",
    "sklearn.model_selection.cross_validate(sklearn.svm.SVC(kernel='rbf', C=1e9), \n",
    "                                       create_feature_dataframe(experiments),\n",
    "                                       create_target_series(experiments))['test_score'].mean()"
   ]
  },
  {
   "cell_type": "code",
   "execution_count": null,
   "id": "e7110c4c",
   "metadata": {},
   "outputs": [],
   "source": [
    "#%%time\n",
    "#sklearn.model_selection.cross_validate(sklearn.svm.SVC(kernel='poly', C=1e9, degree=2), \n",
    "##                                       create_feature_dataframe(experiments),\n",
    "#                                       create_target_series(experiments))['test_score'].mean()"
   ]
  },
  {
   "cell_type": "markdown",
   "id": "c791d974",
   "metadata": {},
   "source": [
    "### Lost causes"
   ]
  },
  {
   "cell_type": "code",
   "execution_count": null,
   "id": "1e0e7a4b",
   "metadata": {},
   "outputs": [],
   "source": [
    "sklearn.model_selection.cross_validate(sklearn.svm.LinearSVC(dual=True, C=1e9), \n",
    "                                       create_feature_dataframe(experiments),\n",
    "                                       create_target_series(experiments))['test_score'].mean()"
   ]
  }
 ],
 "metadata": {
  "kernelspec": {
   "display_name": "Python 3 (ipykernel)",
   "language": "python",
   "name": "python3"
  },
  "language_info": {
   "codemirror_mode": {
    "name": "ipython",
    "version": 3
   },
   "file_extension": ".py",
   "mimetype": "text/x-python",
   "name": "python",
   "nbconvert_exporter": "python",
   "pygments_lexer": "ipython3",
   "version": "3.8.5"
  }
 },
 "nbformat": 4,
 "nbformat_minor": 5
}
