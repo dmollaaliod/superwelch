{
 "cells": [
  {
   "cell_type": "markdown",
   "id": "5ead105a",
   "metadata": {},
   "source": [
    "# Can we beat Welch's t-test?\n",
    "\n",
    "The current version of this script is super-stupid. But to do any interesting research, you have to plant\n",
    "a few small acorns, and this is the smallest of acorns.\n",
    "\n",
    "Suppose you have to evaluate NUMBER_OF_EXPERIMENTS experiments very small experiment. By a weird\n",
    "coincidence, they all have the same number of participants. There are CONTROL_GROUP_SIZE patients\n",
    "getting a placebo, and EXPERIMENT_GROUP_SIZE getting a drug.\n",
    "\n",
    "Unfortunately approximately PROPORTION_OF_EXPERIMENTS_THAT_DO_NOTHING of those drugs actually have no effect either.\n",
    "\n",
    "You want to create a classifier to determine whether or not the experimental drug worked.\n",
    "\n",
    "Also, amazingly, the control group and the experimental group metrics are normally distributed. Obviously, the\n",
    "experiments where the drug is useless have the same mean and standard deviation. In the experiments where\n",
    "the drug is useful, they differ. The means of these datasets are uniformly distributed between 0-10. The standard deviations are uniformly distributed by 1-4.\n",
    "\n",
    "Being a well-trained statistician with years of experience, you use Welch's t-test.\n",
    "\n",
    "Your offsider is a clueless data scientist whose sole training consisted of reading the sklearn documentation.\n",
    "\n",
    "You have a future self who will implement a beautifully trained transformer or fully-connected neural network. (I haven't done that in this code yet. One day soon.)\n",
    "\n",
    "Who wins?"
   ]
  },
  {
   "cell_type": "code",
   "execution_count": 1,
   "id": "65988997",
   "metadata": {},
   "outputs": [],
   "source": [
    "CONTROL_GROUP_SIZE=5\n",
    "EXPERIMENT_GROUP_SIZE=6\n",
    "PROPORTION_OF_EXPERIMENTS_THAT_DO_NOTHING=0.66\n",
    "NUMBER_OF_EXPERIMENTS=10000"
   ]
  },
  {
   "cell_type": "code",
   "execution_count": 2,
   "id": "06ec5eb5",
   "metadata": {},
   "outputs": [],
   "source": [
    "import scipy\n",
    "import scipy.stats\n",
    "import collections\n",
    "import pandas\n",
    "import sklearn.model_selection\n",
    "import sklearn.svm\n",
    "import sklearn.dummy\n",
    "import sklearn.metrics\n",
    "import sklearn.tree\n",
    "import sklearn.ensemble\n",
    "import sklearn.neighbors"
   ]
  },
  {
   "cell_type": "code",
   "execution_count": 3,
   "id": "b302d604",
   "metadata": {},
   "outputs": [],
   "source": [
    "Experiment = collections.namedtuple(\"Experiment\",\n",
    "                                    [\"ControlLoc\", \"ControlScale\", \"ControlValues\",\n",
    "                                   \"ExperimentLoc\", \"ExperimentScale\", \"ExperimentValues\", \n",
    "                                   \"ShouldShowResult\"])"
   ]
  },
  {
   "cell_type": "code",
   "execution_count": 4,
   "id": "4c03c224",
   "metadata": {},
   "outputs": [],
   "source": [
    "def generate_experiment():\n",
    "    null_experiment = scipy.stats.uniform.rvs() <= PROPORTION_OF_EXPERIMENTS_THAT_DO_NOTHING\n",
    "    control_loc = scipy.stats.uniform.rvs(loc=0, scale=10)\n",
    "    control_scale = scipy.stats.uniform.rvs(loc=1, scale=4)\n",
    "    if null_experiment:\n",
    "        experiment_loc = control_loc\n",
    "        experiment_scale = control_scale\n",
    "    else:\n",
    "        experiment_loc = scipy.stats.uniform.rvs(loc=0, scale=10)\n",
    "        experiment_scale = scipy.stats.uniform.rvs(loc=1, scale=4)\n",
    "    control_values = scipy.stats.norm.rvs(loc=control_loc, scale=control_scale, size=CONTROL_GROUP_SIZE)\n",
    "    experiment_values = scipy.stats.norm.rvs(loc=experiment_loc, scale=experiment_scale, size=EXPERIMENT_GROUP_SIZE)\n",
    "    return Experiment(ControlLoc=control_loc, \n",
    "                      ControlScale=control_scale,\n",
    "                     ControlValues=control_values,\n",
    "                     ExperimentLoc=experiment_loc,\n",
    "                     ExperimentScale=experiment_scale,\n",
    "                     ExperimentValues=experiment_values,\n",
    "                     ShouldShowResult=not(null_experiment))\n",
    "\n",
    "def generate_experiments(number_of_experiments):\n",
    "    return [generate_experiment() for n in range(number_of_experiments)]"
   ]
  },
  {
   "cell_type": "code",
   "execution_count": 5,
   "id": "cc785bad",
   "metadata": {},
   "outputs": [],
   "source": [
    "def create_feature_dataframe(experiments):\n",
    "    records = []\n",
    "    for experiment in experiments:\n",
    "        record = {}\n",
    "        for i in range(CONTROL_GROUP_SIZE):\n",
    "            record[f\"c{i}\"] = experiment.ControlValues[i]\n",
    "        for i in range(EXPERIMENT_GROUP_SIZE):\n",
    "            record[f\"x{i}\"] = experiment.ExperimentValues[i]\n",
    "        records.append(record)\n",
    "    return pandas.DataFrame.from_records(records)\n",
    "\n",
    "def create_target_series(experiments):\n",
    "    return pandas.Series([x.ShouldShowResult for x in experiments])"
   ]
  },
  {
   "cell_type": "code",
   "execution_count": 6,
   "id": "71964fe5",
   "metadata": {},
   "outputs": [
    {
     "data": {
      "text/html": [
       "<div>\n",
       "<style scoped>\n",
       "    .dataframe tbody tr th:only-of-type {\n",
       "        vertical-align: middle;\n",
       "    }\n",
       "\n",
       "    .dataframe tbody tr th {\n",
       "        vertical-align: top;\n",
       "    }\n",
       "\n",
       "    .dataframe thead th {\n",
       "        text-align: right;\n",
       "    }\n",
       "</style>\n",
       "<table border=\"1\" class=\"dataframe\">\n",
       "  <thead>\n",
       "    <tr style=\"text-align: right;\">\n",
       "      <th></th>\n",
       "      <th>c0</th>\n",
       "      <th>c1</th>\n",
       "      <th>c2</th>\n",
       "      <th>c3</th>\n",
       "      <th>c4</th>\n",
       "      <th>x0</th>\n",
       "      <th>x1</th>\n",
       "      <th>x2</th>\n",
       "      <th>x3</th>\n",
       "      <th>x4</th>\n",
       "      <th>x5</th>\n",
       "    </tr>\n",
       "  </thead>\n",
       "  <tbody>\n",
       "    <tr>\n",
       "      <th>0</th>\n",
       "      <td>-0.206126</td>\n",
       "      <td>8.522555</td>\n",
       "      <td>10.064102</td>\n",
       "      <td>-0.853037</td>\n",
       "      <td>8.452155</td>\n",
       "      <td>-4.433929</td>\n",
       "      <td>4.602424</td>\n",
       "      <td>8.761225</td>\n",
       "      <td>2.613004</td>\n",
       "      <td>1.967372</td>\n",
       "      <td>0.990905</td>\n",
       "    </tr>\n",
       "    <tr>\n",
       "      <th>1</th>\n",
       "      <td>0.501765</td>\n",
       "      <td>11.001093</td>\n",
       "      <td>7.251494</td>\n",
       "      <td>14.495405</td>\n",
       "      <td>10.152011</td>\n",
       "      <td>7.130783</td>\n",
       "      <td>10.953517</td>\n",
       "      <td>10.992327</td>\n",
       "      <td>17.070594</td>\n",
       "      <td>4.902604</td>\n",
       "      <td>4.919637</td>\n",
       "    </tr>\n",
       "    <tr>\n",
       "      <th>2</th>\n",
       "      <td>1.751106</td>\n",
       "      <td>2.741874</td>\n",
       "      <td>5.272238</td>\n",
       "      <td>4.575064</td>\n",
       "      <td>2.102541</td>\n",
       "      <td>5.414399</td>\n",
       "      <td>4.340850</td>\n",
       "      <td>4.936145</td>\n",
       "      <td>4.348434</td>\n",
       "      <td>2.791548</td>\n",
       "      <td>3.419493</td>\n",
       "    </tr>\n",
       "    <tr>\n",
       "      <th>3</th>\n",
       "      <td>9.060280</td>\n",
       "      <td>8.686143</td>\n",
       "      <td>9.621933</td>\n",
       "      <td>9.113837</td>\n",
       "      <td>7.500838</td>\n",
       "      <td>9.598649</td>\n",
       "      <td>8.075901</td>\n",
       "      <td>7.975168</td>\n",
       "      <td>10.110625</td>\n",
       "      <td>6.638207</td>\n",
       "      <td>7.513025</td>\n",
       "    </tr>\n",
       "    <tr>\n",
       "      <th>4</th>\n",
       "      <td>5.583946</td>\n",
       "      <td>0.336508</td>\n",
       "      <td>2.344874</td>\n",
       "      <td>5.757725</td>\n",
       "      <td>-1.038442</td>\n",
       "      <td>9.173740</td>\n",
       "      <td>4.693067</td>\n",
       "      <td>2.313086</td>\n",
       "      <td>2.273397</td>\n",
       "      <td>3.966556</td>\n",
       "      <td>3.555573</td>\n",
       "    </tr>\n",
       "    <tr>\n",
       "      <th>...</th>\n",
       "      <td>...</td>\n",
       "      <td>...</td>\n",
       "      <td>...</td>\n",
       "      <td>...</td>\n",
       "      <td>...</td>\n",
       "      <td>...</td>\n",
       "      <td>...</td>\n",
       "      <td>...</td>\n",
       "      <td>...</td>\n",
       "      <td>...</td>\n",
       "      <td>...</td>\n",
       "    </tr>\n",
       "    <tr>\n",
       "      <th>9995</th>\n",
       "      <td>7.507727</td>\n",
       "      <td>7.504997</td>\n",
       "      <td>7.683371</td>\n",
       "      <td>7.330439</td>\n",
       "      <td>7.131142</td>\n",
       "      <td>-2.130101</td>\n",
       "      <td>-0.003836</td>\n",
       "      <td>8.515860</td>\n",
       "      <td>3.426279</td>\n",
       "      <td>0.930638</td>\n",
       "      <td>2.000744</td>\n",
       "    </tr>\n",
       "    <tr>\n",
       "      <th>9996</th>\n",
       "      <td>-1.288976</td>\n",
       "      <td>2.701757</td>\n",
       "      <td>-1.093941</td>\n",
       "      <td>-1.493802</td>\n",
       "      <td>1.597263</td>\n",
       "      <td>7.900321</td>\n",
       "      <td>9.869044</td>\n",
       "      <td>0.611283</td>\n",
       "      <td>7.947053</td>\n",
       "      <td>6.435785</td>\n",
       "      <td>3.343748</td>\n",
       "    </tr>\n",
       "    <tr>\n",
       "      <th>9997</th>\n",
       "      <td>15.739962</td>\n",
       "      <td>9.606768</td>\n",
       "      <td>5.739813</td>\n",
       "      <td>12.978162</td>\n",
       "      <td>15.704103</td>\n",
       "      <td>10.242445</td>\n",
       "      <td>3.246099</td>\n",
       "      <td>11.414767</td>\n",
       "      <td>4.416069</td>\n",
       "      <td>6.439252</td>\n",
       "      <td>1.910737</td>\n",
       "    </tr>\n",
       "    <tr>\n",
       "      <th>9998</th>\n",
       "      <td>1.624305</td>\n",
       "      <td>6.375156</td>\n",
       "      <td>4.740752</td>\n",
       "      <td>-4.512823</td>\n",
       "      <td>6.580758</td>\n",
       "      <td>18.655564</td>\n",
       "      <td>1.270996</td>\n",
       "      <td>0.176932</td>\n",
       "      <td>7.189917</td>\n",
       "      <td>-0.601702</td>\n",
       "      <td>-1.252281</td>\n",
       "    </tr>\n",
       "    <tr>\n",
       "      <th>9999</th>\n",
       "      <td>6.604044</td>\n",
       "      <td>4.998607</td>\n",
       "      <td>7.291768</td>\n",
       "      <td>3.786143</td>\n",
       "      <td>4.951714</td>\n",
       "      <td>9.350959</td>\n",
       "      <td>4.519242</td>\n",
       "      <td>-1.146785</td>\n",
       "      <td>1.929229</td>\n",
       "      <td>0.433861</td>\n",
       "      <td>3.589836</td>\n",
       "    </tr>\n",
       "  </tbody>\n",
       "</table>\n",
       "<p>10000 rows × 11 columns</p>\n",
       "</div>"
      ],
      "text/plain": [
       "             c0         c1         c2         c3         c4         x0  \\\n",
       "0     -0.206126   8.522555  10.064102  -0.853037   8.452155  -4.433929   \n",
       "1      0.501765  11.001093   7.251494  14.495405  10.152011   7.130783   \n",
       "2      1.751106   2.741874   5.272238   4.575064   2.102541   5.414399   \n",
       "3      9.060280   8.686143   9.621933   9.113837   7.500838   9.598649   \n",
       "4      5.583946   0.336508   2.344874   5.757725  -1.038442   9.173740   \n",
       "...         ...        ...        ...        ...        ...        ...   \n",
       "9995   7.507727   7.504997   7.683371   7.330439   7.131142  -2.130101   \n",
       "9996  -1.288976   2.701757  -1.093941  -1.493802   1.597263   7.900321   \n",
       "9997  15.739962   9.606768   5.739813  12.978162  15.704103  10.242445   \n",
       "9998   1.624305   6.375156   4.740752  -4.512823   6.580758  18.655564   \n",
       "9999   6.604044   4.998607   7.291768   3.786143   4.951714   9.350959   \n",
       "\n",
       "             x1         x2         x3        x4        x5  \n",
       "0      4.602424   8.761225   2.613004  1.967372  0.990905  \n",
       "1     10.953517  10.992327  17.070594  4.902604  4.919637  \n",
       "2      4.340850   4.936145   4.348434  2.791548  3.419493  \n",
       "3      8.075901   7.975168  10.110625  6.638207  7.513025  \n",
       "4      4.693067   2.313086   2.273397  3.966556  3.555573  \n",
       "...         ...        ...        ...       ...       ...  \n",
       "9995  -0.003836   8.515860   3.426279  0.930638  2.000744  \n",
       "9996   9.869044   0.611283   7.947053  6.435785  3.343748  \n",
       "9997   3.246099  11.414767   4.416069  6.439252  1.910737  \n",
       "9998   1.270996   0.176932   7.189917 -0.601702 -1.252281  \n",
       "9999   4.519242  -1.146785   1.929229  0.433861  3.589836  \n",
       "\n",
       "[10000 rows x 11 columns]"
      ]
     },
     "execution_count": 6,
     "metadata": {},
     "output_type": "execute_result"
    }
   ],
   "source": [
    "experiments = generate_experiments(NUMBER_OF_EXPERIMENTS)\n",
    "create_feature_dataframe(experiments)"
   ]
  },
  {
   "cell_type": "code",
   "execution_count": 7,
   "id": "c8006e9c",
   "metadata": {},
   "outputs": [
    {
     "data": {
      "text/plain": [
       "0.3307"
      ]
     },
     "execution_count": 7,
     "metadata": {},
     "output_type": "execute_result"
    }
   ],
   "source": [
    "create_target_series(experiments).mean()"
   ]
  },
  {
   "cell_type": "code",
   "execution_count": 8,
   "id": "6e7faa61",
   "metadata": {},
   "outputs": [],
   "source": [
    "class WelchTTest:\n",
    "    def __init__(self):\n",
    "        pass\n",
    "    def fit(self, X,y, weights=[]):\n",
    "        pass\n",
    "    def predict(self, Xs):\n",
    "        answer = []\n",
    "        for experiment in Xs:\n",
    "            outcome = scipy.stats.ttest_ind(experiment.ControlValues, experiment.ExperimentValues, equal_var=False)\n",
    "            if outcome.pvalue < 0.05:\n",
    "                answer.append(True)\n",
    "            else:\n",
    "                answer.append(False)\n",
    "        return answer"
   ]
  },
  {
   "cell_type": "code",
   "execution_count": 9,
   "id": "6a6a4f54",
   "metadata": {},
   "outputs": [
    {
     "name": "stdout",
     "output_type": "stream",
     "text": [
      "[[6394  299]\n",
      " [2048 1259]]\n"
     ]
    }
   ],
   "source": [
    "welch = WelchTTest()\n",
    "welch_answers = welch.predict(experiments)\n",
    "print(sklearn.metrics.confusion_matrix(create_target_series(experiments), welch_answers))"
   ]
  },
  {
   "cell_type": "code",
   "execution_count": 10,
   "id": "81cc029e",
   "metadata": {},
   "outputs": [
    {
     "data": {
      "text/plain": [
       "1"
      ]
     },
     "execution_count": 10,
     "metadata": {},
     "output_type": "execute_result"
    }
   ],
   "source": [
    "sklearn.metrics.confusion_matrix([False, False, False, False, True, True, True, True],\n",
    "                                [True, False, False, False, True, True, True, True])[0][1]"
   ]
  },
  {
   "cell_type": "code",
   "execution_count": 11,
   "id": "ab5ebefe",
   "metadata": {},
   "outputs": [],
   "source": [
    "def type_1_error_ratio(y_true, y_pred):\n",
    "    return sklearn.metrics.confusion_matrix(y_true, y_pred)[0][1] / len(y_true)\n",
    "\n",
    "type_1_error_score = sklearn.metrics.make_scorer(type_1_error_ratio, greater_is_better=False)"
   ]
  },
  {
   "cell_type": "markdown",
   "id": "4a129bd6",
   "metadata": {},
   "source": [
    "## The target to beat...\n",
    "\n",
    "For accuracy."
   ]
  },
  {
   "cell_type": "code",
   "execution_count": 12,
   "id": "66eba676",
   "metadata": {},
   "outputs": [
    {
     "data": {
      "text/plain": [
       "0.7653"
      ]
     },
     "execution_count": 12,
     "metadata": {},
     "output_type": "execute_result"
    }
   ],
   "source": [
    "welch_accuracy = sklearn.metrics.accuracy_score(create_target_series(experiments), welch_answers)\n",
    "welch_accuracy"
   ]
  },
  {
   "cell_type": "markdown",
   "id": "c122318e",
   "metadata": {},
   "source": [
    "But you have to keep the type 1 error rate below this..."
   ]
  },
  {
   "cell_type": "code",
   "execution_count": 13,
   "id": "157c2f40",
   "metadata": {},
   "outputs": [
    {
     "data": {
      "text/plain": [
       "0.0299"
      ]
     },
     "execution_count": 13,
     "metadata": {},
     "output_type": "execute_result"
    }
   ],
   "source": [
    "type_1_error_ratio(create_target_series(experiments), welch_answers)"
   ]
  },
  {
   "cell_type": "markdown",
   "id": "cccecfbe",
   "metadata": {},
   "source": [
    "## Various stupid ways to beat it\n",
    "\n",
    "Dummy gives us a baseline to be sure that the real models aren't just predicting the most common case."
   ]
  },
  {
   "cell_type": "code",
   "execution_count": 14,
   "id": "b59f00b8",
   "metadata": {},
   "outputs": [
    {
     "name": "stdout",
     "output_type": "stream",
     "text": [
      "Mean accuracy: 0.6693\n",
      "Mean type 1 error: 0.0\n"
     ]
    }
   ],
   "source": [
    "dummy_scores = sklearn.model_selection.cross_validate(sklearn.dummy.DummyClassifier(strategy='most_frequent'), \n",
    "                                       create_feature_dataframe(experiments),\n",
    "                                       create_target_series(experiments),\n",
    "                                       scoring={'accuracy': 'accuracy', \n",
    "                                                'type_1_error_ratio': type_1_error_score}\n",
    "                                      )\n",
    "print(\"Mean accuracy:\", dummy_scores['test_accuracy'].mean())\n",
    "print(\"Mean type 1 error:\", abs(dummy_scores['test_type_1_error_ratio'].mean()))"
   ]
  },
  {
   "cell_type": "markdown",
   "id": "50b9e800",
   "metadata": {},
   "source": [
    "Random forest seems to beat Welch if there is enough training data."
   ]
  },
  {
   "cell_type": "code",
   "execution_count": 15,
   "id": "10a821a1",
   "metadata": {},
   "outputs": [
    {
     "name": "stdout",
     "output_type": "stream",
     "text": [
      "Mean accuracy: 0.7724\n",
      "Mean type 1 error: 0.0315\n",
      "CPU times: user 14.7 s, sys: 87.7 ms, total: 14.8 s\n",
      "Wall time: 14.8 s\n"
     ]
    }
   ],
   "source": [
    "%%time\n",
    "rfc_scores = sklearn.model_selection.cross_validate(sklearn.ensemble.RandomForestClassifier(), \n",
    "                                       create_feature_dataframe(experiments),\n",
    "                                       create_target_series(experiments),\n",
    "                                       scoring={'accuracy': 'accuracy', \n",
    "                                                'type_1_error_ratio': type_1_error_score}\n",
    "                                               )\n",
    "print(\"Mean accuracy:\", rfc_scores['test_accuracy'].mean())\n",
    "print(\"Mean type 1 error:\", abs(rfc_scores['test_type_1_error_ratio'].mean()))"
   ]
  },
  {
   "cell_type": "code",
   "execution_count": 16,
   "id": "7eb0aeeb",
   "metadata": {},
   "outputs": [
    {
     "name": "stdout",
     "output_type": "stream",
     "text": [
      "Random forest classifier beat the Welch t-test while maintaining a low type 1 error ratio\n"
     ]
    }
   ],
   "source": [
    "if abs(rfc_scores['test_type_1_error_ratio'].mean()) < 0.05 and rfc_scores['test_accuracy'].mean() > welch_accuracy:\n",
    "    print(\"Random forest classifier beat the Welch t-test while maintaining a low type 1 error ratio\")"
   ]
  },
  {
   "cell_type": "markdown",
   "id": "436f6d6a",
   "metadata": {},
   "source": [
    "### Lost causes"
   ]
  },
  {
   "cell_type": "markdown",
   "id": "2b1a4e11",
   "metadata": {},
   "source": [
    "You would think that SVM models would work really well; but they take too long to be practical. It's also\n",
    "not clear whether they are actually improving with more data."
   ]
  },
  {
   "cell_type": "code",
   "execution_count": 17,
   "id": "6391847b",
   "metadata": {},
   "outputs": [],
   "source": [
    "#%%time\n",
    "#sklearn.model_selection.cross_validate(sklearn.svm.SVC(kernel='rbf', C=1e9), \n",
    "#                                       create_feature_dataframe(experiments),\n",
    "#                                       create_target_series(experiments))['test_score'].mean()"
   ]
  },
  {
   "cell_type": "code",
   "execution_count": 18,
   "id": "da0dfe42",
   "metadata": {},
   "outputs": [],
   "source": [
    "#%%time\n",
    "#sklearn.model_selection.cross_validate(sklearn.svm.SVC(kernel='poly', C=1e9, degree=2), \n",
    "##                                       create_feature_dataframe(experiments),\n",
    "#                                       create_target_series(experiments))['test_score'].mean()"
   ]
  },
  {
   "cell_type": "code",
   "execution_count": 19,
   "id": "b32f6ecd",
   "metadata": {},
   "outputs": [],
   "source": [
    "#sklearn.model_selection.cross_validate(sklearn.svm.LinearSVC(dual=True, C=1e9), \n",
    "#                                       create_feature_dataframe(experiments),\n",
    "#                                       create_target_series(experiments))['test_score'].mean()"
   ]
  },
  {
   "cell_type": "code",
   "execution_count": null,
   "id": "59df4b07",
   "metadata": {},
   "outputs": [],
   "source": []
  }
 ],
 "metadata": {
  "kernelspec": {
   "display_name": "Python 3 (ipykernel)",
   "language": "python",
   "name": "python3"
  },
  "language_info": {
   "codemirror_mode": {
    "name": "ipython",
    "version": 3
   },
   "file_extension": ".py",
   "mimetype": "text/x-python",
   "name": "python",
   "nbconvert_exporter": "python",
   "pygments_lexer": "ipython3",
   "version": "3.8.5"
  }
 },
 "nbformat": 4,
 "nbformat_minor": 5
}
