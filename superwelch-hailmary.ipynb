{
 "cells": [
  {
   "cell_type": "markdown",
   "id": "5ead105a",
   "metadata": {},
   "source": [
    "# Can we beat Welch's t-test?\n",
    "\n",
    "The current version of this script is super-stupid. But to do any interesting research, you have to plant\n",
    "a few small acorns, and this is the smallest of acorns.\n",
    "\n",
    "Suppose you have to evaluate NUMBER_OF_EXPERIMENTS experiments very small experiment. By a weird\n",
    "coincidence, they all have the same number of participants. There are CONTROL_GROUP_SIZE patients\n",
    "getting a placebo, and EXPERIMENT_GROUP_SIZE getting a drug.\n",
    "\n",
    "Unfortunately approximately PROPORTION_OF_EXPERIMENTS_THAT_DO_NOTHING of those drugs actually have no effect either.\n",
    "\n",
    "You want to create a classifier to determine whether or not the experimental drug worked.\n",
    "\n",
    "Also, amazingly, the control group and the experimental group metrics are normally distributed. Obviously, the\n",
    "experiments where the drug is useless have the same mean and standard deviation. In the experiments where\n",
    "the drug is useful, they differ. The means of these datasets are uniformly distributed between 0-10. The standard deviations are uniformly distributed by 1-4.\n",
    "\n",
    "Being a well-trained statistician with years of experience, you use Welch's t-test.\n",
    "\n",
    "Your offsider is a clueless data scientist whose sole training consisted of reading the sklearn documentation.\n",
    "\n",
    "You have a future self who will implement a beautifully trained transformer or fully-connected neural network. (I haven't done that in this code yet. One day soon.)\n",
    "\n",
    "Who wins?"
   ]
  },
  {
   "cell_type": "code",
   "execution_count": 1,
   "id": "65988997",
   "metadata": {},
   "outputs": [],
   "source": [
    "CONTROL_GROUP_SIZE=5\n",
    "EXPERIMENT_GROUP_SIZE=6\n",
    "PROPORTION_OF_EXPERIMENTS_THAT_DO_NOTHING=0.66\n",
    "NUMBER_OF_EXPERIMENTS=100000"
   ]
  },
  {
   "cell_type": "code",
   "execution_count": 2,
   "id": "06ec5eb5",
   "metadata": {},
   "outputs": [],
   "source": [
    "import scipy\n",
    "import scipy.stats\n",
    "import collections\n",
    "import pandas\n",
    "import sklearn.model_selection\n",
    "import sklearn.svm\n",
    "import sklearn.dummy\n",
    "import sklearn.metrics\n",
    "import sklearn.tree\n",
    "import sklearn.ensemble\n",
    "import sklearn.neighbors"
   ]
  },
  {
   "cell_type": "code",
   "execution_count": 3,
   "id": "b302d604",
   "metadata": {},
   "outputs": [],
   "source": [
    "Experiment = collections.namedtuple(\"Experiment\",\n",
    "                                    [\"ControlLoc\", \"ControlScale\", \"ControlValues\",\n",
    "                                   \"ExperimentLoc\", \"ExperimentScale\", \"ExperimentValues\", \n",
    "                                   \"ShouldShowResult\"])"
   ]
  },
  {
   "cell_type": "code",
   "execution_count": 4,
   "id": "4c03c224",
   "metadata": {},
   "outputs": [],
   "source": [
    "def generate_experiment():\n",
    "    null_experiment = scipy.stats.uniform.rvs() <= PROPORTION_OF_EXPERIMENTS_THAT_DO_NOTHING\n",
    "    control_loc = scipy.stats.uniform.rvs(loc=0, scale=10)\n",
    "    control_scale = scipy.stats.uniform.rvs(loc=1, scale=4)\n",
    "    if null_experiment:\n",
    "        experiment_loc = control_loc\n",
    "        experiment_scale = control_scale\n",
    "    else:\n",
    "        experiment_loc = scipy.stats.uniform.rvs(loc=0, scale=10)\n",
    "        experiment_scale = scipy.stats.uniform.rvs(loc=1, scale=4)\n",
    "    control_values = scipy.stats.norm.rvs(loc=control_loc, scale=control_scale, size=CONTROL_GROUP_SIZE)\n",
    "    experiment_values = scipy.stats.norm.rvs(loc=experiment_loc, scale=experiment_scale, size=EXPERIMENT_GROUP_SIZE)\n",
    "    return Experiment(ControlLoc=control_loc, \n",
    "                      ControlScale=control_scale,\n",
    "                     ControlValues=control_values,\n",
    "                     ExperimentLoc=experiment_loc,\n",
    "                     ExperimentScale=experiment_scale,\n",
    "                     ExperimentValues=experiment_values,\n",
    "                     ShouldShowResult=not(null_experiment))\n",
    "\n",
    "def generate_experiments(number_of_experiments):\n",
    "    return [generate_experiment() for n in range(number_of_experiments)]"
   ]
  },
  {
   "cell_type": "code",
   "execution_count": 5,
   "id": "cc785bad",
   "metadata": {},
   "outputs": [],
   "source": [
    "def create_feature_dataframe(experiments):\n",
    "    records = []\n",
    "    for experiment in experiments:\n",
    "        record = {}\n",
    "        for i in range(CONTROL_GROUP_SIZE):\n",
    "            record[f\"c{i}\"] = experiment.ControlValues[i]\n",
    "        for i in range(EXPERIMENT_GROUP_SIZE):\n",
    "            record[f\"x{i}\"] = experiment.ExperimentValues[i]\n",
    "        records.append(record)\n",
    "    return pandas.DataFrame.from_records(records)\n",
    "\n",
    "def create_target_series(experiments):\n",
    "    return pandas.Series([x.ShouldShowResult for x in experiments])"
   ]
  },
  {
   "cell_type": "code",
   "execution_count": 6,
   "id": "71964fe5",
   "metadata": {},
   "outputs": [
    {
     "data": {
      "text/html": [
       "<div>\n",
       "<style scoped>\n",
       "    .dataframe tbody tr th:only-of-type {\n",
       "        vertical-align: middle;\n",
       "    }\n",
       "\n",
       "    .dataframe tbody tr th {\n",
       "        vertical-align: top;\n",
       "    }\n",
       "\n",
       "    .dataframe thead th {\n",
       "        text-align: right;\n",
       "    }\n",
       "</style>\n",
       "<table border=\"1\" class=\"dataframe\">\n",
       "  <thead>\n",
       "    <tr style=\"text-align: right;\">\n",
       "      <th></th>\n",
       "      <th>c0</th>\n",
       "      <th>c1</th>\n",
       "      <th>c2</th>\n",
       "      <th>c3</th>\n",
       "      <th>c4</th>\n",
       "      <th>x0</th>\n",
       "      <th>x1</th>\n",
       "      <th>x2</th>\n",
       "      <th>x3</th>\n",
       "      <th>x4</th>\n",
       "      <th>x5</th>\n",
       "    </tr>\n",
       "  </thead>\n",
       "  <tbody>\n",
       "    <tr>\n",
       "      <th>0</th>\n",
       "      <td>1.948896</td>\n",
       "      <td>1.842204</td>\n",
       "      <td>3.356506</td>\n",
       "      <td>8.396645</td>\n",
       "      <td>2.716596</td>\n",
       "      <td>4.087990</td>\n",
       "      <td>3.329450</td>\n",
       "      <td>1.303297</td>\n",
       "      <td>4.856509</td>\n",
       "      <td>-4.646989</td>\n",
       "      <td>5.671129</td>\n",
       "    </tr>\n",
       "    <tr>\n",
       "      <th>1</th>\n",
       "      <td>5.700836</td>\n",
       "      <td>6.696139</td>\n",
       "      <td>6.077726</td>\n",
       "      <td>6.980054</td>\n",
       "      <td>7.844831</td>\n",
       "      <td>5.705246</td>\n",
       "      <td>4.207307</td>\n",
       "      <td>5.960568</td>\n",
       "      <td>7.485636</td>\n",
       "      <td>-1.021265</td>\n",
       "      <td>2.424254</td>\n",
       "    </tr>\n",
       "    <tr>\n",
       "      <th>2</th>\n",
       "      <td>1.425377</td>\n",
       "      <td>3.246844</td>\n",
       "      <td>9.847236</td>\n",
       "      <td>2.468435</td>\n",
       "      <td>1.735519</td>\n",
       "      <td>1.397936</td>\n",
       "      <td>-0.017366</td>\n",
       "      <td>-0.525483</td>\n",
       "      <td>-0.466242</td>\n",
       "      <td>-0.234993</td>\n",
       "      <td>-1.120525</td>\n",
       "    </tr>\n",
       "    <tr>\n",
       "      <th>3</th>\n",
       "      <td>10.062429</td>\n",
       "      <td>8.309879</td>\n",
       "      <td>11.900366</td>\n",
       "      <td>-0.176416</td>\n",
       "      <td>12.084270</td>\n",
       "      <td>8.167442</td>\n",
       "      <td>6.817105</td>\n",
       "      <td>9.620867</td>\n",
       "      <td>6.982023</td>\n",
       "      <td>10.886390</td>\n",
       "      <td>0.855377</td>\n",
       "    </tr>\n",
       "    <tr>\n",
       "      <th>4</th>\n",
       "      <td>8.330335</td>\n",
       "      <td>13.145230</td>\n",
       "      <td>7.705072</td>\n",
       "      <td>6.980150</td>\n",
       "      <td>11.142246</td>\n",
       "      <td>12.263262</td>\n",
       "      <td>6.225753</td>\n",
       "      <td>9.118882</td>\n",
       "      <td>13.347363</td>\n",
       "      <td>11.145861</td>\n",
       "      <td>8.717043</td>\n",
       "    </tr>\n",
       "    <tr>\n",
       "      <th>...</th>\n",
       "      <td>...</td>\n",
       "      <td>...</td>\n",
       "      <td>...</td>\n",
       "      <td>...</td>\n",
       "      <td>...</td>\n",
       "      <td>...</td>\n",
       "      <td>...</td>\n",
       "      <td>...</td>\n",
       "      <td>...</td>\n",
       "      <td>...</td>\n",
       "      <td>...</td>\n",
       "    </tr>\n",
       "    <tr>\n",
       "      <th>99995</th>\n",
       "      <td>7.566206</td>\n",
       "      <td>7.794550</td>\n",
       "      <td>5.125132</td>\n",
       "      <td>7.112215</td>\n",
       "      <td>6.144150</td>\n",
       "      <td>4.824090</td>\n",
       "      <td>5.676929</td>\n",
       "      <td>5.495430</td>\n",
       "      <td>3.152568</td>\n",
       "      <td>8.311746</td>\n",
       "      <td>5.230516</td>\n",
       "    </tr>\n",
       "    <tr>\n",
       "      <th>99996</th>\n",
       "      <td>0.712997</td>\n",
       "      <td>3.747413</td>\n",
       "      <td>0.277560</td>\n",
       "      <td>2.314402</td>\n",
       "      <td>1.556554</td>\n",
       "      <td>15.139612</td>\n",
       "      <td>9.855118</td>\n",
       "      <td>12.038876</td>\n",
       "      <td>8.462546</td>\n",
       "      <td>3.941723</td>\n",
       "      <td>11.352306</td>\n",
       "    </tr>\n",
       "    <tr>\n",
       "      <th>99997</th>\n",
       "      <td>2.857010</td>\n",
       "      <td>6.830576</td>\n",
       "      <td>6.941413</td>\n",
       "      <td>3.484801</td>\n",
       "      <td>3.516044</td>\n",
       "      <td>5.078779</td>\n",
       "      <td>2.749225</td>\n",
       "      <td>2.474191</td>\n",
       "      <td>2.507828</td>\n",
       "      <td>5.688720</td>\n",
       "      <td>1.521244</td>\n",
       "    </tr>\n",
       "    <tr>\n",
       "      <th>99998</th>\n",
       "      <td>-0.263602</td>\n",
       "      <td>-0.387263</td>\n",
       "      <td>-0.438490</td>\n",
       "      <td>4.021054</td>\n",
       "      <td>1.542363</td>\n",
       "      <td>6.770586</td>\n",
       "      <td>2.391286</td>\n",
       "      <td>8.858161</td>\n",
       "      <td>2.462570</td>\n",
       "      <td>9.267146</td>\n",
       "      <td>-1.742045</td>\n",
       "    </tr>\n",
       "    <tr>\n",
       "      <th>99999</th>\n",
       "      <td>5.696201</td>\n",
       "      <td>6.184648</td>\n",
       "      <td>6.465459</td>\n",
       "      <td>2.361653</td>\n",
       "      <td>5.842176</td>\n",
       "      <td>8.358616</td>\n",
       "      <td>12.787001</td>\n",
       "      <td>10.443008</td>\n",
       "      <td>1.862759</td>\n",
       "      <td>4.515401</td>\n",
       "      <td>3.849361</td>\n",
       "    </tr>\n",
       "  </tbody>\n",
       "</table>\n",
       "<p>100000 rows × 11 columns</p>\n",
       "</div>"
      ],
      "text/plain": [
       "              c0         c1         c2        c3         c4         x0  \\\n",
       "0       1.948896   1.842204   3.356506  8.396645   2.716596   4.087990   \n",
       "1       5.700836   6.696139   6.077726  6.980054   7.844831   5.705246   \n",
       "2       1.425377   3.246844   9.847236  2.468435   1.735519   1.397936   \n",
       "3      10.062429   8.309879  11.900366 -0.176416  12.084270   8.167442   \n",
       "4       8.330335  13.145230   7.705072  6.980150  11.142246  12.263262   \n",
       "...          ...        ...        ...       ...        ...        ...   \n",
       "99995   7.566206   7.794550   5.125132  7.112215   6.144150   4.824090   \n",
       "99996   0.712997   3.747413   0.277560  2.314402   1.556554  15.139612   \n",
       "99997   2.857010   6.830576   6.941413  3.484801   3.516044   5.078779   \n",
       "99998  -0.263602  -0.387263  -0.438490  4.021054   1.542363   6.770586   \n",
       "99999   5.696201   6.184648   6.465459  2.361653   5.842176   8.358616   \n",
       "\n",
       "              x1         x2         x3         x4         x5  \n",
       "0       3.329450   1.303297   4.856509  -4.646989   5.671129  \n",
       "1       4.207307   5.960568   7.485636  -1.021265   2.424254  \n",
       "2      -0.017366  -0.525483  -0.466242  -0.234993  -1.120525  \n",
       "3       6.817105   9.620867   6.982023  10.886390   0.855377  \n",
       "4       6.225753   9.118882  13.347363  11.145861   8.717043  \n",
       "...          ...        ...        ...        ...        ...  \n",
       "99995   5.676929   5.495430   3.152568   8.311746   5.230516  \n",
       "99996   9.855118  12.038876   8.462546   3.941723  11.352306  \n",
       "99997   2.749225   2.474191   2.507828   5.688720   1.521244  \n",
       "99998   2.391286   8.858161   2.462570   9.267146  -1.742045  \n",
       "99999  12.787001  10.443008   1.862759   4.515401   3.849361  \n",
       "\n",
       "[100000 rows x 11 columns]"
      ]
     },
     "execution_count": 6,
     "metadata": {},
     "output_type": "execute_result"
    }
   ],
   "source": [
    "experiments = generate_experiments(NUMBER_OF_EXPERIMENTS)\n",
    "create_feature_dataframe(experiments)"
   ]
  },
  {
   "cell_type": "code",
   "execution_count": 7,
   "id": "c8006e9c",
   "metadata": {},
   "outputs": [
    {
     "data": {
      "text/plain": [
       "0.34097"
      ]
     },
     "execution_count": 7,
     "metadata": {},
     "output_type": "execute_result"
    }
   ],
   "source": [
    "create_target_series(experiments).mean()"
   ]
  },
  {
   "cell_type": "code",
   "execution_count": 8,
   "id": "6e7faa61",
   "metadata": {},
   "outputs": [],
   "source": [
    "class WelchTTest:\n",
    "    def __init__(self):\n",
    "        pass\n",
    "    def fit(self, X,y, weights=[]):\n",
    "        pass\n",
    "    def predict(self, Xs):\n",
    "        answer = []\n",
    "        for experiment in Xs:\n",
    "            outcome = scipy.stats.ttest_ind(experiment.ControlValues, experiment.ExperimentValues, equal_var=False)\n",
    "            if outcome.pvalue < 0.05:\n",
    "                answer.append(True)\n",
    "            else:\n",
    "                answer.append(False)\n",
    "        return answer"
   ]
  },
  {
   "cell_type": "code",
   "execution_count": 9,
   "id": "6a6a4f54",
   "metadata": {},
   "outputs": [
    {
     "name": "stdout",
     "output_type": "stream",
     "text": [
      "[[62935  2968]\n",
      " [20994 13103]]\n"
     ]
    }
   ],
   "source": [
    "welch = WelchTTest()\n",
    "welch_answers = welch.predict(experiments)\n",
    "print(sklearn.metrics.confusion_matrix(create_target_series(experiments), welch_answers))"
   ]
  },
  {
   "cell_type": "code",
   "execution_count": 10,
   "id": "6197c3f1",
   "metadata": {},
   "outputs": [
    {
     "data": {
      "text/plain": [
       "1"
      ]
     },
     "execution_count": 10,
     "metadata": {},
     "output_type": "execute_result"
    }
   ],
   "source": [
    "sklearn.metrics.confusion_matrix([False, False, False, False, True, True, True, True],\n",
    "                                [True, False, False, False, True, True, True, True])[0][1]"
   ]
  },
  {
   "cell_type": "code",
   "execution_count": 11,
   "id": "e80e7d98",
   "metadata": {},
   "outputs": [],
   "source": [
    "def type_1_error_ratio(y_true, y_pred):\n",
    "    return sklearn.metrics.confusion_matrix(y_true, y_pred)[0][1] / len(y_true)\n",
    "\n",
    "type_1_error_score = sklearn.metrics.make_scorer(type_1_error_ratio, greater_is_better=False)"
   ]
  },
  {
   "cell_type": "markdown",
   "id": "4a129bd6",
   "metadata": {},
   "source": [
    "## The target to beat...\n",
    "\n",
    "For accuracy."
   ]
  },
  {
   "cell_type": "code",
   "execution_count": 12,
   "id": "66eba676",
   "metadata": {},
   "outputs": [
    {
     "data": {
      "text/plain": [
       "0.76038"
      ]
     },
     "execution_count": 12,
     "metadata": {},
     "output_type": "execute_result"
    }
   ],
   "source": [
    "welch_accuracy = sklearn.metrics.accuracy_score(create_target_series(experiments), welch_answers)\n",
    "welch_accuracy"
   ]
  },
  {
   "cell_type": "markdown",
   "id": "da5a5e46",
   "metadata": {},
   "source": [
    "But you have to keep the type 1 error rate below this..."
   ]
  },
  {
   "cell_type": "code",
   "execution_count": 13,
   "id": "da553f25",
   "metadata": {},
   "outputs": [
    {
     "data": {
      "text/plain": [
       "0.02968"
      ]
     },
     "execution_count": 13,
     "metadata": {},
     "output_type": "execute_result"
    }
   ],
   "source": [
    "welch_type_1_error_ratio = type_1_error_ratio(create_target_series(experiments), welch_answers)\n",
    "welch_type_1_error_ratio"
   ]
  },
  {
   "cell_type": "markdown",
   "id": "cccecfbe",
   "metadata": {},
   "source": [
    "## Various stupid ways to beat it\n",
    "\n",
    "Dummy gives us a baseline to be sure that the real models aren't just predicting the most common case."
   ]
  },
  {
   "cell_type": "code",
   "execution_count": 14,
   "id": "b59f00b8",
   "metadata": {},
   "outputs": [
    {
     "name": "stdout",
     "output_type": "stream",
     "text": [
      "Mean accuracy: 0.6590299999999999\n",
      "Mean type 1 error: 0.0\n"
     ]
    }
   ],
   "source": [
    "dummy_scores = sklearn.model_selection.cross_validate(sklearn.dummy.DummyClassifier(strategy='most_frequent'), \n",
    "                                       create_feature_dataframe(experiments),\n",
    "                                       create_target_series(experiments),\n",
    "                                       scoring={'accuracy': 'accuracy', \n",
    "                                                'type_1_error_ratio': type_1_error_score}\n",
    "                                      )\n",
    "print(\"Mean accuracy:\", dummy_scores['test_accuracy'].mean())\n",
    "print(\"Mean type 1 error:\", abs(dummy_scores['test_type_1_error_ratio'].mean()))"
   ]
  },
  {
   "cell_type": "markdown",
   "id": "50b9e800",
   "metadata": {},
   "source": [
    "## Random forest \n",
    "\n",
    "It seems to beat Welch if there is enough training data."
   ]
  },
  {
   "cell_type": "code",
   "execution_count": 15,
   "id": "10a821a1",
   "metadata": {},
   "outputs": [
    {
     "name": "stdout",
     "output_type": "stream",
     "text": [
      "Mean accuracy: 0.78466\n",
      "Mean type 1 error: 0.030570000000000003\n",
      "CPU times: user 3min 30s, sys: 664 ms, total: 3min 31s\n",
      "Wall time: 3min 31s\n"
     ]
    }
   ],
   "source": [
    "%%time\n",
    "rfc_scores = sklearn.model_selection.cross_validate(sklearn.ensemble.RandomForestClassifier(), \n",
    "                                       create_feature_dataframe(experiments),\n",
    "                                       create_target_series(experiments),\n",
    "                                       scoring={'accuracy': 'accuracy', \n",
    "                                                'type_1_error_ratio': type_1_error_score}\n",
    "                                               )\n",
    "print(\"Mean accuracy:\", rfc_scores['test_accuracy'].mean())\n",
    "print(\"Mean type 1 error:\", abs(rfc_scores['test_type_1_error_ratio'].mean()))"
   ]
  },
  {
   "cell_type": "code",
   "execution_count": 16,
   "id": "4c8aac08",
   "metadata": {},
   "outputs": [
    {
     "name": "stdout",
     "output_type": "stream",
     "text": [
      "Random forest classifier beat the Welch t-test while maintaining a low type 1 error ratio\n"
     ]
    }
   ],
   "source": [
    "if abs(rfc_scores['test_type_1_error_ratio'].mean()) < 0.05 and rfc_scores['test_accuracy'].mean() > welch_accuracy:\n",
    "    print(\"Random forest classifier beat the Welch t-test while maintaining a low type 1 error ratio\")"
   ]
  },
  {
   "cell_type": "code",
   "execution_count": 17,
   "id": "23efdbac",
   "metadata": {},
   "outputs": [],
   "source": [
    "if abs(rfc_scores['test_type_1_error_ratio'].mean()) < welch_type_1_error_ratio:\n",
    "    print(\"Random forest beat the Welch t-test on type 1 errors\")"
   ]
  },
  {
   "cell_type": "markdown",
   "id": "1e7bdded",
   "metadata": {},
   "source": [
    "## Neighbour methods"
   ]
  },
  {
   "cell_type": "code",
   "execution_count": 18,
   "id": "0ca4858d",
   "metadata": {},
   "outputs": [
    {
     "name": "stdout",
     "output_type": "stream",
     "text": [
      "Mean accuracy: 0.76083\n",
      "Mean type 1 error: 0.08343\n",
      "CPU times: user 49.1 s, sys: 127 ms, total: 49.2 s\n",
      "Wall time: 49.3 s\n"
     ]
    }
   ],
   "source": [
    "%%time\n",
    "knn_scores = sklearn.model_selection.cross_validate(sklearn.neighbors.KNeighborsClassifier(), \n",
    "                                       create_feature_dataframe(experiments),\n",
    "                                       create_target_series(experiments),\n",
    "                                       scoring={'accuracy': 'accuracy', \n",
    "                                                'type_1_error_ratio': type_1_error_score}\n",
    "                                               )\n",
    "print(\"Mean accuracy:\", knn_scores['test_accuracy'].mean())\n",
    "print(\"Mean type 1 error:\", abs(knn_scores['test_type_1_error_ratio'].mean()))"
   ]
  },
  {
   "cell_type": "code",
   "execution_count": 19,
   "id": "2ddc4633",
   "metadata": {},
   "outputs": [],
   "source": [
    "if abs(knn_scores['test_type_1_error_ratio'].mean()) < 0.05 and knn_scores['test_accuracy'].mean() > welch_accuracy:\n",
    "    print(\"Random forest classifier beat the Welch t-test while maintaining a low type 1 error ratio\")"
   ]
  },
  {
   "cell_type": "code",
   "execution_count": 20,
   "id": "5af26fb4",
   "metadata": {},
   "outputs": [],
   "source": [
    "#%%time\n",
    "#\n",
    "#radnn_scores = sklearn.model_selection.cross_validate(sklearn.neighbors.RadiusNeighborsClassifier(), \n",
    "#                                       create_feature_dataframe(experiments),\n",
    "#                                       create_target_series(experiments),\n",
    "#                                       scoring={'accuracy': 'accuracy', \n",
    "#                                                'type_1_error_ratio': type_1_error_score}\n",
    "#                                               )\n",
    "#print(\"Mean accuracy:\", radnn_scores['test_accuracy'].mean())\n",
    "#print(\"Mean type 1 error:\", abs(radnn_scores['test_type_1_error_ratio'].mean()))"
   ]
  },
  {
   "cell_type": "code",
   "execution_count": 21,
   "id": "aa198b1e",
   "metadata": {},
   "outputs": [],
   "source": [
    "#if abs(radnn_scores['test_type_1_error_ratio'].mean()) < 0.05 and radnn_scores['test_accuracy'].mean() > welch_accuracy:\n",
    "#    print(\"Random forest classifier beat the Welch t-test while maintaining a low type 1 error ratio\")"
   ]
  },
  {
   "cell_type": "markdown",
   "id": "436f6d6a",
   "metadata": {},
   "source": [
    "### Lost causes"
   ]
  },
  {
   "cell_type": "markdown",
   "id": "2b1a4e11",
   "metadata": {},
   "source": [
    "You would think that SVM models would work really well; but they take too long to be practical. It's also\n",
    "not clear whether they are actually improving with more data."
   ]
  },
  {
   "cell_type": "code",
   "execution_count": 22,
   "id": "6391847b",
   "metadata": {},
   "outputs": [],
   "source": [
    "#%%time\n",
    "#sklearn.model_selection.cross_validate(sklearn.svm.SVC(kernel='rbf', C=1e9), \n",
    "#                                       create_feature_dataframe(experiments),\n",
    "#                                       create_target_series(experiments))['test_score'].mean()"
   ]
  },
  {
   "cell_type": "code",
   "execution_count": 23,
   "id": "da0dfe42",
   "metadata": {},
   "outputs": [],
   "source": [
    "#%%time\n",
    "#sklearn.model_selection.cross_validate(sklearn.svm.SVC(kernel='poly', C=1e9, degree=2), \n",
    "##                                       create_feature_dataframe(experiments),\n",
    "#                                       create_target_series(experiments))['test_score'].mean()"
   ]
  },
  {
   "cell_type": "code",
   "execution_count": 24,
   "id": "b32f6ecd",
   "metadata": {},
   "outputs": [],
   "source": [
    "#sklearn.model_selection.cross_validate(sklearn.svm.LinearSVC(dual=True, C=1e9), \n",
    "#                                       create_feature_dataframe(experiments),\n",
    "#                                       create_target_series(experiments))['test_score'].mean()"
   ]
  },
  {
   "cell_type": "code",
   "execution_count": null,
   "id": "59df4b07",
   "metadata": {},
   "outputs": [],
   "source": []
  }
 ],
 "metadata": {
  "kernelspec": {
   "display_name": "Python 3 (ipykernel)",
   "language": "python",
   "name": "python3"
  },
  "language_info": {
   "codemirror_mode": {
    "name": "ipython",
    "version": 3
   },
   "file_extension": ".py",
   "mimetype": "text/x-python",
   "name": "python",
   "nbconvert_exporter": "python",
   "pygments_lexer": "ipython3",
   "version": "3.8.5"
  }
 },
 "nbformat": 4,
 "nbformat_minor": 5
}
