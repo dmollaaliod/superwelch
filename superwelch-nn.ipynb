{
 "cells": [
  {
   "attachments": {},
   "cell_type": "markdown",
   "id": "5ead105a",
   "metadata": {},
   "source": [
    "# Can we beat Welch's t-test?\n",
    "\n",
    "The current version of this script is super-stupid. But to do any interesting research, you have to plant\n",
    "a few small acorns, and this is the smallest of acorns.\n",
    "\n",
    "Suppose you have to evaluate NUMBER_OF_EXPERIMENTS experiments very small experiment. By a weird\n",
    "coincidence, they all have the same number of participants. There are CONTROL_GROUP_SIZE patients\n",
    "getting a placebo, and EXPERIMENT_GROUP_SIZE getting a drug.\n",
    "\n",
    "Unfortunately approximately PROPORTION_OF_EXPERIMENTS_THAT_DO_NOTHING of those drugs actually have no effect either.\n",
    "\n",
    "You want to create a classifier to determine whether or not the experimental drug worked.\n",
    "\n",
    "Also, amazingly, the control group and the experimental group metrics are normally distributed. Obviously, the\n",
    "experiments where the drug is useless have the same mean and standard deviation. In the experiments where\n",
    "the drug is useful, they differ. The means of these datasets are uniformly distributed between 0-10. The standard deviations are uniformly distributed by 1-4.\n",
    "\n",
    "Being a well-trained statistician with years of experience, you use Welch's t-test.\n",
    "\n",
    "Your offsider is a clueless data scientist whose sole training consisted of reading the sklearn documentation. **Update (Diego): and some knowledge of neural networks**.\n",
    "\n",
    "You have a future self who will implement a beautifully trained transformer or fully-connected neural network. (I haven't done that in this code yet. One day soon.)\n",
    "\n",
    "Who wins?"
   ]
  },
  {
   "cell_type": "code",
   "execution_count": 35,
   "id": "65988997",
   "metadata": {},
   "outputs": [],
   "source": [
    "CONTROL_GROUP_SIZE=5\n",
    "EXPERIMENT_GROUP_SIZE=6\n",
    "PROPORTION_OF_EXPERIMENTS_THAT_DO_NOTHING=0.66\n",
    "NUMBER_OF_EXPERIMENTS=100000"
   ]
  },
  {
   "cell_type": "code",
   "execution_count": 36,
   "id": "06ec5eb5",
   "metadata": {},
   "outputs": [],
   "source": [
    "import scipy\n",
    "import scipy.stats\n",
    "import collections\n",
    "import pandas\n",
    "import sklearn.model_selection\n",
    "import sklearn.svm\n",
    "import sklearn.dummy\n",
    "import sklearn.metrics\n",
    "import sklearn.tree\n",
    "import sklearn.ensemble\n",
    "import sklearn.neighbors"
   ]
  },
  {
   "cell_type": "code",
   "execution_count": 37,
   "id": "b302d604",
   "metadata": {},
   "outputs": [],
   "source": [
    "Experiment = collections.namedtuple(\"Experiment\",\n",
    "                                    [\"ControlLoc\", \"ControlScale\", \"ControlValues\",\n",
    "                                   \"ExperimentLoc\", \"ExperimentScale\", \"ExperimentValues\", \n",
    "                                   \"ShouldShowResult\"])"
   ]
  },
  {
   "cell_type": "code",
   "execution_count": 38,
   "id": "4c03c224",
   "metadata": {},
   "outputs": [],
   "source": [
    "def generate_experiment():\n",
    "    null_experiment = scipy.stats.uniform.rvs() <= PROPORTION_OF_EXPERIMENTS_THAT_DO_NOTHING\n",
    "    control_loc = scipy.stats.uniform.rvs(loc=0, scale=10)\n",
    "    control_scale = scipy.stats.uniform.rvs(loc=1, scale=4)\n",
    "    if null_experiment:\n",
    "        experiment_loc = control_loc\n",
    "        experiment_scale = control_scale\n",
    "    else:\n",
    "        experiment_loc = scipy.stats.uniform.rvs(loc=0, scale=10)\n",
    "        experiment_scale = scipy.stats.uniform.rvs(loc=1, scale=4)\n",
    "    control_values = scipy.stats.norm.rvs(loc=control_loc, scale=control_scale, size=CONTROL_GROUP_SIZE)\n",
    "    experiment_values = scipy.stats.norm.rvs(loc=experiment_loc, scale=experiment_scale, size=EXPERIMENT_GROUP_SIZE)\n",
    "    return Experiment(ControlLoc=control_loc, \n",
    "                      ControlScale=control_scale,\n",
    "                     ControlValues=control_values,\n",
    "                     ExperimentLoc=experiment_loc,\n",
    "                     ExperimentScale=experiment_scale,\n",
    "                     ExperimentValues=experiment_values,\n",
    "                     ShouldShowResult=not(null_experiment))\n",
    "\n",
    "def generate_experiments(number_of_experiments):\n",
    "    return [generate_experiment() for n in range(number_of_experiments)]"
   ]
  },
  {
   "cell_type": "code",
   "execution_count": 39,
   "id": "cc785bad",
   "metadata": {},
   "outputs": [],
   "source": [
    "def create_feature_dataframe(experiments):\n",
    "    records = []\n",
    "    for experiment in experiments:\n",
    "        record = {}\n",
    "        for i in range(CONTROL_GROUP_SIZE):\n",
    "            record[f\"c{i}\"] = experiment.ControlValues[i]\n",
    "        for i in range(EXPERIMENT_GROUP_SIZE):\n",
    "            record[f\"x{i}\"] = experiment.ExperimentValues[i]\n",
    "        records.append(record)\n",
    "    return pandas.DataFrame.from_records(records)\n",
    "\n",
    "def create_target_series(experiments):\n",
    "    return pandas.Series([x.ShouldShowResult for x in experiments])"
   ]
  },
  {
   "cell_type": "code",
   "execution_count": 40,
   "id": "71964fe5",
   "metadata": {},
   "outputs": [
    {
     "data": {
      "text/html": [
       "<div>\n",
       "<style scoped>\n",
       "    .dataframe tbody tr th:only-of-type {\n",
       "        vertical-align: middle;\n",
       "    }\n",
       "\n",
       "    .dataframe tbody tr th {\n",
       "        vertical-align: top;\n",
       "    }\n",
       "\n",
       "    .dataframe thead th {\n",
       "        text-align: right;\n",
       "    }\n",
       "</style>\n",
       "<table border=\"1\" class=\"dataframe\">\n",
       "  <thead>\n",
       "    <tr style=\"text-align: right;\">\n",
       "      <th></th>\n",
       "      <th>c0</th>\n",
       "      <th>c1</th>\n",
       "      <th>c2</th>\n",
       "      <th>c3</th>\n",
       "      <th>c4</th>\n",
       "      <th>x0</th>\n",
       "      <th>x1</th>\n",
       "      <th>x2</th>\n",
       "      <th>x3</th>\n",
       "      <th>x4</th>\n",
       "      <th>x5</th>\n",
       "    </tr>\n",
       "  </thead>\n",
       "  <tbody>\n",
       "    <tr>\n",
       "      <th>0</th>\n",
       "      <td>7.041426</td>\n",
       "      <td>9.532730</td>\n",
       "      <td>10.832903</td>\n",
       "      <td>7.917380</td>\n",
       "      <td>8.284008</td>\n",
       "      <td>9.239651</td>\n",
       "      <td>6.394088</td>\n",
       "      <td>9.516518</td>\n",
       "      <td>7.928147</td>\n",
       "      <td>9.760478</td>\n",
       "      <td>13.707901</td>\n",
       "    </tr>\n",
       "    <tr>\n",
       "      <th>1</th>\n",
       "      <td>10.509690</td>\n",
       "      <td>5.710724</td>\n",
       "      <td>5.155598</td>\n",
       "      <td>6.100354</td>\n",
       "      <td>-0.813376</td>\n",
       "      <td>6.698280</td>\n",
       "      <td>14.191196</td>\n",
       "      <td>8.167150</td>\n",
       "      <td>8.782613</td>\n",
       "      <td>7.868149</td>\n",
       "      <td>15.067801</td>\n",
       "    </tr>\n",
       "    <tr>\n",
       "      <th>2</th>\n",
       "      <td>7.112416</td>\n",
       "      <td>6.070608</td>\n",
       "      <td>5.325655</td>\n",
       "      <td>8.020194</td>\n",
       "      <td>12.345723</td>\n",
       "      <td>8.907949</td>\n",
       "      <td>-1.508427</td>\n",
       "      <td>14.320921</td>\n",
       "      <td>9.930717</td>\n",
       "      <td>11.813849</td>\n",
       "      <td>9.808185</td>\n",
       "    </tr>\n",
       "    <tr>\n",
       "      <th>3</th>\n",
       "      <td>4.253879</td>\n",
       "      <td>5.790526</td>\n",
       "      <td>4.202894</td>\n",
       "      <td>7.733208</td>\n",
       "      <td>5.190561</td>\n",
       "      <td>1.123563</td>\n",
       "      <td>2.561735</td>\n",
       "      <td>5.518133</td>\n",
       "      <td>7.621124</td>\n",
       "      <td>4.742116</td>\n",
       "      <td>9.220730</td>\n",
       "    </tr>\n",
       "    <tr>\n",
       "      <th>4</th>\n",
       "      <td>4.990388</td>\n",
       "      <td>3.996352</td>\n",
       "      <td>11.128080</td>\n",
       "      <td>7.319655</td>\n",
       "      <td>8.475199</td>\n",
       "      <td>7.467409</td>\n",
       "      <td>10.972181</td>\n",
       "      <td>3.406581</td>\n",
       "      <td>4.996548</td>\n",
       "      <td>8.795480</td>\n",
       "      <td>9.100131</td>\n",
       "    </tr>\n",
       "    <tr>\n",
       "      <th>...</th>\n",
       "      <td>...</td>\n",
       "      <td>...</td>\n",
       "      <td>...</td>\n",
       "      <td>...</td>\n",
       "      <td>...</td>\n",
       "      <td>...</td>\n",
       "      <td>...</td>\n",
       "      <td>...</td>\n",
       "      <td>...</td>\n",
       "      <td>...</td>\n",
       "      <td>...</td>\n",
       "    </tr>\n",
       "    <tr>\n",
       "      <th>99995</th>\n",
       "      <td>2.672116</td>\n",
       "      <td>6.799567</td>\n",
       "      <td>5.515955</td>\n",
       "      <td>8.013847</td>\n",
       "      <td>5.573475</td>\n",
       "      <td>1.267757</td>\n",
       "      <td>3.506946</td>\n",
       "      <td>7.952793</td>\n",
       "      <td>6.528013</td>\n",
       "      <td>5.525441</td>\n",
       "      <td>10.482136</td>\n",
       "    </tr>\n",
       "    <tr>\n",
       "      <th>99996</th>\n",
       "      <td>5.274091</td>\n",
       "      <td>2.835349</td>\n",
       "      <td>6.595077</td>\n",
       "      <td>3.479650</td>\n",
       "      <td>2.761597</td>\n",
       "      <td>4.018028</td>\n",
       "      <td>6.553090</td>\n",
       "      <td>5.150932</td>\n",
       "      <td>3.197582</td>\n",
       "      <td>2.524040</td>\n",
       "      <td>0.455807</td>\n",
       "    </tr>\n",
       "    <tr>\n",
       "      <th>99997</th>\n",
       "      <td>8.508778</td>\n",
       "      <td>8.163286</td>\n",
       "      <td>8.091643</td>\n",
       "      <td>8.712101</td>\n",
       "      <td>8.670028</td>\n",
       "      <td>11.308870</td>\n",
       "      <td>11.651300</td>\n",
       "      <td>10.201722</td>\n",
       "      <td>10.209395</td>\n",
       "      <td>7.768742</td>\n",
       "      <td>11.368282</td>\n",
       "    </tr>\n",
       "    <tr>\n",
       "      <th>99998</th>\n",
       "      <td>3.267405</td>\n",
       "      <td>3.628479</td>\n",
       "      <td>7.119019</td>\n",
       "      <td>6.483939</td>\n",
       "      <td>3.202671</td>\n",
       "      <td>6.547811</td>\n",
       "      <td>2.650536</td>\n",
       "      <td>5.738234</td>\n",
       "      <td>5.217257</td>\n",
       "      <td>4.371338</td>\n",
       "      <td>8.654002</td>\n",
       "    </tr>\n",
       "    <tr>\n",
       "      <th>99999</th>\n",
       "      <td>1.570102</td>\n",
       "      <td>-1.624730</td>\n",
       "      <td>1.376484</td>\n",
       "      <td>7.757126</td>\n",
       "      <td>7.555327</td>\n",
       "      <td>4.247696</td>\n",
       "      <td>-2.808586</td>\n",
       "      <td>11.962187</td>\n",
       "      <td>3.215317</td>\n",
       "      <td>1.936349</td>\n",
       "      <td>2.683212</td>\n",
       "    </tr>\n",
       "  </tbody>\n",
       "</table>\n",
       "<p>100000 rows × 11 columns</p>\n",
       "</div>"
      ],
      "text/plain": [
       "              c0        c1         c2        c3         c4         x0  \\\n",
       "0       7.041426  9.532730  10.832903  7.917380   8.284008   9.239651   \n",
       "1      10.509690  5.710724   5.155598  6.100354  -0.813376   6.698280   \n",
       "2       7.112416  6.070608   5.325655  8.020194  12.345723   8.907949   \n",
       "3       4.253879  5.790526   4.202894  7.733208   5.190561   1.123563   \n",
       "4       4.990388  3.996352  11.128080  7.319655   8.475199   7.467409   \n",
       "...          ...       ...        ...       ...        ...        ...   \n",
       "99995   2.672116  6.799567   5.515955  8.013847   5.573475   1.267757   \n",
       "99996   5.274091  2.835349   6.595077  3.479650   2.761597   4.018028   \n",
       "99997   8.508778  8.163286   8.091643  8.712101   8.670028  11.308870   \n",
       "99998   3.267405  3.628479   7.119019  6.483939   3.202671   6.547811   \n",
       "99999   1.570102 -1.624730   1.376484  7.757126   7.555327   4.247696   \n",
       "\n",
       "              x1         x2         x3         x4         x5  \n",
       "0       6.394088   9.516518   7.928147   9.760478  13.707901  \n",
       "1      14.191196   8.167150   8.782613   7.868149  15.067801  \n",
       "2      -1.508427  14.320921   9.930717  11.813849   9.808185  \n",
       "3       2.561735   5.518133   7.621124   4.742116   9.220730  \n",
       "4      10.972181   3.406581   4.996548   8.795480   9.100131  \n",
       "...          ...        ...        ...        ...        ...  \n",
       "99995   3.506946   7.952793   6.528013   5.525441  10.482136  \n",
       "99996   6.553090   5.150932   3.197582   2.524040   0.455807  \n",
       "99997  11.651300  10.201722  10.209395   7.768742  11.368282  \n",
       "99998   2.650536   5.738234   5.217257   4.371338   8.654002  \n",
       "99999  -2.808586  11.962187   3.215317   1.936349   2.683212  \n",
       "\n",
       "[100000 rows x 11 columns]"
      ]
     },
     "execution_count": 40,
     "metadata": {},
     "output_type": "execute_result"
    }
   ],
   "source": [
    "experiments = generate_experiments(NUMBER_OF_EXPERIMENTS)\n",
    "create_feature_dataframe(experiments)"
   ]
  },
  {
   "cell_type": "code",
   "execution_count": 41,
   "id": "c8006e9c",
   "metadata": {},
   "outputs": [
    {
     "data": {
      "text/plain": [
       "0.33986"
      ]
     },
     "execution_count": 41,
     "metadata": {},
     "output_type": "execute_result"
    }
   ],
   "source": [
    "create_target_series(experiments).mean()"
   ]
  },
  {
   "cell_type": "code",
   "execution_count": 42,
   "id": "6e7faa61",
   "metadata": {},
   "outputs": [],
   "source": [
    "class WelchTTest:\n",
    "    def __init__(self):\n",
    "        pass\n",
    "    def fit(self, X,y, weights=[]):\n",
    "        pass\n",
    "    def predict(self, Xs):\n",
    "        answer = []\n",
    "        for experiment in Xs:\n",
    "            outcome = scipy.stats.ttest_ind(experiment.ControlValues, experiment.ExperimentValues, equal_var=False)\n",
    "            if outcome.pvalue < 0.05:\n",
    "                answer.append(True)\n",
    "            else:\n",
    "                answer.append(False)\n",
    "        return answer"
   ]
  },
  {
   "cell_type": "code",
   "execution_count": 43,
   "id": "6a6a4f54",
   "metadata": {},
   "outputs": [
    {
     "name": "stdout",
     "output_type": "stream",
     "text": [
      "[[63035  2979]\n",
      " [20901 13085]]\n"
     ]
    }
   ],
   "source": [
    "welch = WelchTTest()\n",
    "welch_answers = welch.predict(experiments)\n",
    "print(sklearn.metrics.confusion_matrix(create_target_series(experiments), welch_answers))"
   ]
  },
  {
   "cell_type": "code",
   "execution_count": 44,
   "id": "6197c3f1",
   "metadata": {},
   "outputs": [
    {
     "data": {
      "text/plain": [
       "1"
      ]
     },
     "execution_count": 44,
     "metadata": {},
     "output_type": "execute_result"
    }
   ],
   "source": [
    "sklearn.metrics.confusion_matrix([False, False, False, False, True, True, True, True],\n",
    "                                [True, False, False, False, True, True, True, True])[0][1]"
   ]
  },
  {
   "cell_type": "code",
   "execution_count": 45,
   "id": "e80e7d98",
   "metadata": {},
   "outputs": [],
   "source": [
    "def type_1_error_ratio(y_true, y_pred):\n",
    "    return sklearn.metrics.confusion_matrix(y_true, y_pred)[0][1] / len(y_true)\n",
    "\n",
    "type_1_error_score = sklearn.metrics.make_scorer(type_1_error_ratio, greater_is_better=False)"
   ]
  },
  {
   "cell_type": "markdown",
   "id": "4a129bd6",
   "metadata": {},
   "source": [
    "## The target to beat...\n",
    "\n",
    "For accuracy."
   ]
  },
  {
   "cell_type": "code",
   "execution_count": 46,
   "id": "66eba676",
   "metadata": {},
   "outputs": [
    {
     "data": {
      "text/plain": [
       "0.7612"
      ]
     },
     "execution_count": 46,
     "metadata": {},
     "output_type": "execute_result"
    }
   ],
   "source": [
    "welch_accuracy = sklearn.metrics.accuracy_score(create_target_series(experiments), welch_answers)\n",
    "welch_accuracy"
   ]
  },
  {
   "cell_type": "markdown",
   "id": "da5a5e46",
   "metadata": {},
   "source": [
    "But you have to keep the type 1 error rate below this..."
   ]
  },
  {
   "cell_type": "code",
   "execution_count": 47,
   "id": "da553f25",
   "metadata": {},
   "outputs": [
    {
     "data": {
      "text/plain": [
       "0.02979"
      ]
     },
     "execution_count": 47,
     "metadata": {},
     "output_type": "execute_result"
    }
   ],
   "source": [
    "welch_type_1_error_ratio = type_1_error_ratio(create_target_series(experiments), welch_answers)\n",
    "welch_type_1_error_ratio"
   ]
  },
  {
   "cell_type": "markdown",
   "id": "cccecfbe",
   "metadata": {},
   "source": [
    "## Various stupid ways to beat it\n",
    "\n",
    "Dummy gives us a baseline to be sure that the real models aren't just predicting the most common case."
   ]
  },
  {
   "cell_type": "code",
   "execution_count": 48,
   "id": "b59f00b8",
   "metadata": {},
   "outputs": [
    {
     "name": "stdout",
     "output_type": "stream",
     "text": [
      "Mean accuracy: 0.66014\n",
      "Mean type 1 error: 0.0\n"
     ]
    }
   ],
   "source": [
    "dummy_scores = sklearn.model_selection.cross_validate(sklearn.dummy.DummyClassifier(strategy='most_frequent'), \n",
    "                                       create_feature_dataframe(experiments),\n",
    "                                       create_target_series(experiments),\n",
    "                                       scoring={'accuracy': 'accuracy', \n",
    "                                                'type_1_error_ratio': type_1_error_score}\n",
    "                                      )\n",
    "print(\"Mean accuracy:\", dummy_scores['test_accuracy'].mean())\n",
    "print(\"Mean type 1 error:\", abs(dummy_scores['test_type_1_error_ratio'].mean()))"
   ]
  },
  {
   "attachments": {},
   "cell_type": "markdown",
   "id": "ff46581f",
   "metadata": {},
   "source": [
    "## Neural Network"
   ]
  },
  {
   "cell_type": "code",
   "execution_count": 49,
   "id": "e9c8c2f0",
   "metadata": {},
   "outputs": [
    {
     "data": {
      "text/plain": [
       "[PhysicalDevice(name='/physical_device:CPU:0', device_type='CPU'),\n",
       " PhysicalDevice(name='/physical_device:XLA_CPU:0', device_type='XLA_CPU'),\n",
       " PhysicalDevice(name='/physical_device:GPU:0', device_type='GPU'),\n",
       " PhysicalDevice(name='/physical_device:XLA_GPU:0', device_type='XLA_GPU')]"
      ]
     },
     "execution_count": 49,
     "metadata": {},
     "output_type": "execute_result"
    }
   ],
   "source": [
    "import numpy as np\n",
    "import tensorflow as tf\n",
    "tf.config.experimental.list_physical_devices()"
   ]
  },
  {
   "cell_type": "code",
   "execution_count": 50,
   "id": "fb3b15f3",
   "metadata": {},
   "outputs": [
    {
     "data": {
      "text/plain": [
       "'2.2.0'"
      ]
     },
     "execution_count": 50,
     "metadata": {},
     "output_type": "execute_result"
    }
   ],
   "source": [
    "tf.__version__"
   ]
  },
  {
   "cell_type": "code",
   "execution_count": 51,
   "id": "a5690d7e",
   "metadata": {},
   "outputs": [],
   "source": [
    "from tensorflow.keras import models\n",
    "from tensorflow.keras import layers"
   ]
  },
  {
   "cell_type": "code",
   "execution_count": 52,
   "id": "276af6be",
   "metadata": {},
   "outputs": [],
   "source": [
    "from sklearn.model_selection import KFold\n",
    "kfold = KFold(n_splits=5, shuffle=True)"
   ]
  },
  {
   "cell_type": "code",
   "execution_count": 53,
   "id": "4aa89d5d",
   "metadata": {},
   "outputs": [
    {
     "name": "stdout",
     "output_type": "stream",
     "text": [
      "Fold 1\n",
      "After 20 epochs out of 300\n",
      "loss of fold 1: 0.508105\n",
      "accuracy of fold 1: 0.771750\n",
      "Type 1 error ratio of fold 1: 0.035650\n",
      "\n",
      "Fold 2\n",
      "After 41 epochs out of 300\n",
      "loss of fold 2: 0.510568\n",
      "accuracy of fold 2: 0.768550\n",
      "Type 1 error ratio of fold 2: 0.039350\n",
      "\n",
      "Fold 3\n",
      "After 26 epochs out of 300\n",
      "loss of fold 3: 0.510944\n",
      "accuracy of fold 3: 0.769800\n",
      "Type 1 error ratio of fold 3: 0.038400\n",
      "\n",
      "Fold 4\n",
      "After 30 epochs out of 300\n",
      "loss of fold 4: 0.510418\n",
      "accuracy of fold 4: 0.769200\n",
      "Type 1 error ratio of fold 4: 0.036750\n",
      "\n",
      "Fold 5\n",
      "After 21 epochs out of 300\n",
      "loss of fold 5: 0.515391\n",
      "accuracy of fold 5: 0.769850\n",
      "Type 1 error ratio of fold 5: 0.036600\n",
      "\n",
      "Mean accuracy: 0.7698300004005432\n",
      "Mean type 1 error ratio: 0.03735\n",
      "CPU times: user 1min 48s, sys: 10.6 s, total: 1min 59s\n",
      "Wall time: 1min 16s\n"
     ]
    }
   ],
   "source": [
    "%%time\n",
    "inputs = create_feature_dataframe(experiments).to_numpy(dtype=float)\n",
    "targets = create_target_series(experiments).to_numpy(dtype=float)\n",
    "max_epochs = 300\n",
    "hidden_size = 10\n",
    "dropout_rate = 0.2\n",
    "batch_size = 512\n",
    "fold = 1\n",
    "accuracies = []\n",
    "type_1_errors = []\n",
    "for train, test in kfold.split(inputs,targets):\n",
    "    print(\"Fold\", fold)\n",
    "\n",
    "    model = models.Sequential()\n",
    "    model.add(layers.Dense(hidden_size, activation='relu',input_shape=(11,)))\n",
    "    model.add(layers.Dropout(dropout_rate))\n",
    "    model.add(layers.Dense(1, activation='sigmoid'))\n",
    "    model.compile(optimizer='adam',\n",
    "                  loss='binary_crossentropy',\n",
    "                  metrics=['accuracy'])\n",
    "\n",
    "    earlystopping = tf.keras.callbacks.EarlyStopping(monitor='accuracy', patience=5)\n",
    "    history = model.fit(inputs[train], targets[train],\n",
    "                    epochs=max_epochs,\n",
    "                    batch_size=batch_size,\n",
    "                    validation_split=0.2,\n",
    "                    callbacks=[earlystopping],\n",
    "                    verbose=0)\n",
    "    scores = model.evaluate(inputs[test], targets[test], verbose=0)\n",
    "    predictions = model.predict(inputs[test])[:,0] >= 0.5 # Predict 1 if the probability is >= 0.5\n",
    "    type_1_error = type_1_error_ratio(targets[test], predictions)\n",
    "    print(\"After %i epochs out of %i\" % (len(history.history['accuracy']), max_epochs))\n",
    "    print(\"%s of fold %i: %f\" % (model.metrics_names[0], fold, scores[0]))\n",
    "    print(\"%s of fold %i: %f\" % (model.metrics_names[1], fold, scores[1]))\n",
    "    print(\"Type 1 error ratio of fold %i: %f\" % (fold, type_1_error))\n",
    "    print()\n",
    "    accuracies.append(scores[1])\n",
    "    type_1_errors.append(type_1_error)\n",
    "    fold += 1\n",
    "print(\"Mean accuracy:\", np.mean(accuracies))\n",
    "print(\"Mean type 1 error ratio:\", np.mean(type_1_errors))"
   ]
  },
  {
   "cell_type": "markdown",
   "id": "50b9e800",
   "metadata": {},
   "source": [
    "## Random forest \n",
    "\n",
    "It seems to beat Welch if there is enough training data."
   ]
  },
  {
   "cell_type": "code",
   "execution_count": 54,
   "id": "10a821a1",
   "metadata": {},
   "outputs": [
    {
     "name": "stdout",
     "output_type": "stream",
     "text": [
      "Mean accuracy: 0.78435\n",
      "Mean type 1 error: 0.03076\n",
      "CPU times: user 3min 36s, sys: 996 ms, total: 3min 37s\n",
      "Wall time: 3min 37s\n"
     ]
    }
   ],
   "source": [
    "%%time\n",
    "rfc_scores = sklearn.model_selection.cross_validate(sklearn.ensemble.RandomForestClassifier(), \n",
    "                                       create_feature_dataframe(experiments),\n",
    "                                       create_target_series(experiments),\n",
    "                                       scoring={'accuracy': 'accuracy', \n",
    "                                                'type_1_error_ratio': type_1_error_score}\n",
    "                                               )\n",
    "print(\"Mean accuracy:\", rfc_scores['test_accuracy'].mean())\n",
    "print(\"Mean type 1 error:\", abs(rfc_scores['test_type_1_error_ratio'].mean()))"
   ]
  },
  {
   "cell_type": "code",
   "execution_count": 55,
   "id": "4c8aac08",
   "metadata": {},
   "outputs": [
    {
     "name": "stdout",
     "output_type": "stream",
     "text": [
      "Random forest classifier beat the Welch t-test while maintaining a low type 1 error ratio\n"
     ]
    }
   ],
   "source": [
    "if abs(rfc_scores['test_type_1_error_ratio'].mean()) < 0.05 and rfc_scores['test_accuracy'].mean() > welch_accuracy:\n",
    "    print(\"Random forest classifier beat the Welch t-test while maintaining a low type 1 error ratio\")"
   ]
  },
  {
   "cell_type": "code",
   "execution_count": 56,
   "id": "23efdbac",
   "metadata": {},
   "outputs": [],
   "source": [
    "if abs(rfc_scores['test_type_1_error_ratio'].mean()) < welch_type_1_error_ratio:\n",
    "    print(\"Random forest beat the Welch t-test on type 1 errors\")"
   ]
  },
  {
   "cell_type": "markdown",
   "id": "1e7bdded",
   "metadata": {},
   "source": [
    "## Neighbour methods"
   ]
  },
  {
   "cell_type": "code",
   "execution_count": 57,
   "id": "0ca4858d",
   "metadata": {},
   "outputs": [
    {
     "name": "stdout",
     "output_type": "stream",
     "text": [
      "Mean accuracy: 0.7626999999999999\n",
      "Mean type 1 error: 0.08318\n",
      "CPU times: user 1min 25s, sys: 136 ms, total: 1min 25s\n",
      "Wall time: 1min 25s\n"
     ]
    }
   ],
   "source": [
    "%%time\n",
    "knn_scores = sklearn.model_selection.cross_validate(sklearn.neighbors.KNeighborsClassifier(), \n",
    "                                       create_feature_dataframe(experiments),\n",
    "                                       create_target_series(experiments),\n",
    "                                       scoring={'accuracy': 'accuracy', \n",
    "                                                'type_1_error_ratio': type_1_error_score}\n",
    "                                               )\n",
    "print(\"Mean accuracy:\", knn_scores['test_accuracy'].mean())\n",
    "print(\"Mean type 1 error:\", abs(knn_scores['test_type_1_error_ratio'].mean()))"
   ]
  },
  {
   "cell_type": "code",
   "execution_count": 58,
   "id": "2ddc4633",
   "metadata": {},
   "outputs": [],
   "source": [
    "if abs(knn_scores['test_type_1_error_ratio'].mean()) < 0.05 and knn_scores['test_accuracy'].mean() > welch_accuracy:\n",
    "    print(\"Random forest classifier beat the Welch t-test while maintaining a low type 1 error ratio\")"
   ]
  },
  {
   "cell_type": "code",
   "execution_count": 59,
   "id": "5af26fb4",
   "metadata": {},
   "outputs": [],
   "source": [
    "#%%time\n",
    "#\n",
    "#radnn_scores = sklearn.model_selection.cross_validate(sklearn.neighbors.RadiusNeighborsClassifier(), \n",
    "#                                       create_feature_dataframe(experiments),\n",
    "#                                       create_target_series(experiments),\n",
    "#                                       scoring={'accuracy': 'accuracy', \n",
    "#                                                'type_1_error_ratio': type_1_error_score}\n",
    "#                                               )\n",
    "#print(\"Mean accuracy:\", radnn_scores['test_accuracy'].mean())\n",
    "#print(\"Mean type 1 error:\", abs(radnn_scores['test_type_1_error_ratio'].mean()))"
   ]
  },
  {
   "cell_type": "code",
   "execution_count": 60,
   "id": "aa198b1e",
   "metadata": {},
   "outputs": [],
   "source": [
    "#if abs(radnn_scores['test_type_1_error_ratio'].mean()) < 0.05 and radnn_scores['test_accuracy'].mean() > welch_accuracy:\n",
    "#    print(\"Random forest classifier beat the Welch t-test while maintaining a low type 1 error ratio\")"
   ]
  },
  {
   "cell_type": "markdown",
   "id": "436f6d6a",
   "metadata": {},
   "source": [
    "### Lost causes"
   ]
  },
  {
   "cell_type": "markdown",
   "id": "2b1a4e11",
   "metadata": {},
   "source": [
    "You would think that SVM models would work really well; but they take too long to be practical. It's also\n",
    "not clear whether they are actually improving with more data."
   ]
  },
  {
   "cell_type": "code",
   "execution_count": 61,
   "id": "6391847b",
   "metadata": {},
   "outputs": [],
   "source": [
    "#%%time\n",
    "#sklearn.model_selection.cross_validate(sklearn.svm.SVC(kernel='rbf', C=1e9), \n",
    "#                                       create_feature_dataframe(experiments),\n",
    "#                                       create_target_series(experiments))['test_score'].mean()"
   ]
  },
  {
   "cell_type": "code",
   "execution_count": 62,
   "id": "da0dfe42",
   "metadata": {},
   "outputs": [],
   "source": [
    "#%%time\n",
    "#sklearn.model_selection.cross_validate(sklearn.svm.SVC(kernel='poly', C=1e9, degree=2), \n",
    "##                                       create_feature_dataframe(experiments),\n",
    "#                                       create_target_series(experiments))['test_score'].mean()"
   ]
  },
  {
   "cell_type": "code",
   "execution_count": 63,
   "id": "b32f6ecd",
   "metadata": {},
   "outputs": [],
   "source": [
    "#sklearn.model_selection.cross_validate(sklearn.svm.LinearSVC(dual=True, C=1e9), \n",
    "#                                       create_feature_dataframe(experiments),\n",
    "#                                       create_target_series(experiments))['test_score'].mean()"
   ]
  },
  {
   "cell_type": "code",
   "execution_count": null,
   "id": "59df4b07",
   "metadata": {},
   "outputs": [],
   "source": []
  }
 ],
 "metadata": {
  "kernelspec": {
   "display_name": "base",
   "language": "python",
   "name": "python3"
  },
  "language_info": {
   "codemirror_mode": {
    "name": "ipython",
    "version": 3
   },
   "file_extension": ".py",
   "mimetype": "text/x-python",
   "name": "python",
   "nbconvert_exporter": "python",
   "pygments_lexer": "ipython3",
   "version": "3.8.3"
  },
  "vscode": {
   "interpreter": {
    "hash": "c9c95a542e0787f57613780817cff22e65fe979e702b6d9a424a45d54043f1a4"
   }
  }
 },
 "nbformat": 4,
 "nbformat_minor": 5
}
